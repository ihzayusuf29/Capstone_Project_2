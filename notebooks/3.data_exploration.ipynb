{
 "cells": [
  {
   "cell_type": "markdown",
   "metadata": {},
   "source": [
    "### Initial Setup"
   ]
  },
  {
   "cell_type": "code",
   "execution_count": 2,
   "metadata": {},
   "outputs": [],
   "source": [
    "import pandas as pd\n",
    "import numpy as np\n",
    "\n",
    "import matplotlib.pyplot as plt\n",
    "import seaborn as sns\n",
    "import matplotlib.ticker as ticker\n",
    "import plotly.express as px\n",
    "\n",
    "import scipy.stats\n",
    "from scipy.stats import chi2"
   ]
  },
  {
   "cell_type": "markdown",
   "metadata": {},
   "source": [
    "### Load Clean Data"
   ]
  },
  {
   "cell_type": "code",
   "execution_count": 3,
   "metadata": {},
   "outputs": [],
   "source": [
    "df= pd.read_csv('C:/Users/Ihza/Downloads/Capstone_Project2/capstone_project2/data/processed/cleaned_data.csv')"
   ]
  },
  {
   "cell_type": "code",
   "execution_count": 4,
   "metadata": {},
   "outputs": [
    {
     "name": "stdout",
     "output_type": "stream",
     "text": [
      "<class 'pandas.core.frame.DataFrame'>\n",
      "RangeIndex: 10999 entries, 0 to 10998\n",
      "Data columns (total 10 columns):\n",
      " #   Column                   Non-Null Count  Dtype \n",
      "---  ------                   --------------  ----- \n",
      " 0   ID                       10999 non-null  int64 \n",
      " 1   Warehouse_block          10999 non-null  object\n",
      " 2   Mode_of_Shipment         10999 non-null  object\n",
      " 3   Cost_of_the_Product      10999 non-null  int64 \n",
      " 4   Product_importance       10999 non-null  object\n",
      " 5   Discount_offered         10999 non-null  int64 \n",
      " 6   Reached.on.Time_Y.N      10999 non-null  object\n",
      " 7   Customer_calls_class     10999 non-null  object\n",
      " 8   Prior_purchase_category  10999 non-null  object\n",
      " 9   Weight_category          10999 non-null  object\n",
      "dtypes: int64(3), object(7)\n",
      "memory usage: 859.4+ KB\n"
     ]
    }
   ],
   "source": [
    "df.info()"
   ]
  },
  {
   "cell_type": "markdown",
   "metadata": {},
   "source": [
    "# `Data Analysis`"
   ]
  },
  {
   "cell_type": "markdown",
   "metadata": {},
   "source": [
    "Setelah melakukan tahap data understanding dan cleaning, kita dapat memulai melakukan analisis untuk mencari tahu apa penyebab terjadinya keterlambatan dalam pengiriman.\n",
    "\n",
    "Analisis akan dilakukan dengan membandingkan data pengiriman yang datang tepat waktu dan terlambat berdasarkan fitur yang tersedia. dari 10.999 data, hanya 4.436 data yang tepat waktu dalam pengiriman, oleh karena itu kita perlu berhati-hati dalam membandingkan data pengirman berdasarkan ketepatan waktunya, pembandingan lebih baik dilakukan berdasarkan ratio, terutama pada data bertipe kategorikal."
   ]
  },
  {
   "cell_type": "markdown",
   "metadata": {},
   "source": [
    "* ### Ketepatan waktu pengiriman"
   ]
  },
  {
   "cell_type": "markdown",
   "metadata": {},
   "source": [
    "Ketepatan waktu pengiriman menjadi ukuran yang menentukan seberapa baik perusahaan dalam mendistribusikan produknya. \n",
    "\n",
    "Dari dataset, ketepatan waktu pengiriman diklasifikasikan menjadi 'Ontime' dan 'Late'. Hal tersebut menjadi batas perusahaan untuk menganalisa apakah produk terkirim tepat waktu atau terlambat. Berikut perbandingan ketepatan waktu pengiriman."
   ]
  },
  {
   "cell_type": "markdown",
   "metadata": {},
   "source": [
    "pertama mari kita lihat distribusi data pada ketepatan waktu pengiriman, kita akan menganalisa kolom `Reached.on.Time_Y.N`."
   ]
  },
  {
   "cell_type": "code",
   "execution_count": 5,
   "metadata": {},
   "outputs": [
    {
     "data": {
      "text/html": [
       "<div>\n",
       "<style scoped>\n",
       "    .dataframe tbody tr th:only-of-type {\n",
       "        vertical-align: middle;\n",
       "    }\n",
       "\n",
       "    .dataframe tbody tr th {\n",
       "        vertical-align: top;\n",
       "    }\n",
       "\n",
       "    .dataframe thead th {\n",
       "        text-align: right;\n",
       "    }\n",
       "</style>\n",
       "<table border=\"1\" class=\"dataframe\">\n",
       "  <thead>\n",
       "    <tr style=\"text-align: right;\">\n",
       "      <th></th>\n",
       "      <th>Reached.on.Time_Y.N</th>\n",
       "      <th>Count</th>\n",
       "    </tr>\n",
       "  </thead>\n",
       "  <tbody>\n",
       "    <tr>\n",
       "      <th>0</th>\n",
       "      <td>late</td>\n",
       "      <td>6563</td>\n",
       "    </tr>\n",
       "    <tr>\n",
       "      <th>1</th>\n",
       "      <td>ontime</td>\n",
       "      <td>4436</td>\n",
       "    </tr>\n",
       "  </tbody>\n",
       "</table>\n",
       "</div>"
      ],
      "text/plain": [
       "  Reached.on.Time_Y.N  Count\n",
       "0                late   6563\n",
       "1              ontime   4436"
      ]
     },
     "execution_count": 5,
     "metadata": {},
     "output_type": "execute_result"
    }
   ],
   "source": [
    "reached_count = df['Reached.on.Time_Y.N'].value_counts().reset_index()\n",
    "reached_count.columns = ['Reached.on.Time_Y.N', 'Count']\n",
    "reached_count"
   ]
  },
  {
   "cell_type": "code",
   "execution_count": 28,
   "metadata": {},
   "outputs": [
    {
     "data": {
      "text/plain": [
       "<matplotlib.legend.Legend at 0x1d6e1a7ba90>"
      ]
     },
     "execution_count": 28,
     "metadata": {},
     "output_type": "execute_result"
    },
    {
     "data": {
      "image/png": "[encoded data removed]",
      "text/plain": [
       "<Figure size 800x600 with 1 Axes>"
      ]
     },
     "metadata": {},
     "output_type": "display_data"
    }
   ],
   "source": [
    "plt.figure(figsize=(8, 6))\n",
    "plt.title('Comparison Reached Time', fontsize=16, fontweight='bold')\n",
    "\n",
    "plt.pie(reached_count['Count'],\n",
    "        autopct='%.1f%%',\n",
    "        startangle=90,\n",
    "        counterclock=False,\n",
    "        colors= ['#FFD0D0', '#EA906C'], \n",
    "        explode= (0.03, 0), \n",
    "        wedgeprops={'edgecolor': 'black', 'linewidth': 0} \n",
    ")\n",
    "\n",
    "legend_labels = ['Late','Ontime']\n",
    "plt.legend(legend_labels, loc='lower left', bbox_to_anchor=(0.8, 0), fontsize=12)"
   ]
  },
  {
   "cell_type": "markdown",
   "metadata": {},
   "source": [
    "Berdasarkan grafik diatas, mayoritas pengiriman didominasi oleh pengiriman terlambat sebanyak 59.7%, sementara pengiriman tepat waktu sebanyak 40.3%.\n",
    "\n",
    "Dengan informasi ini, kita dapat melihat bahwasanya pengiriman terlambat memiliki jumlah yang lebih banyak daripada pengiriman tepat waktu, ini menunjukkan bahwa keterlambatan lebih sering terjadi pada proses pengiriman produk.\n",
    "\n",
    "Perusahaan harus membuat perubahan pada pelayanan yang diberikan, mengetahui faktor yang mempengaruhi ketepatan waktu pengiriman akan mempermudah perusahaan dalam pengambilan keputusan perbaikan."
   ]
  },
  {
   "cell_type": "markdown",
   "metadata": {},
   "source": [
    "* ### Analisis ketepatan waktu pengiriman berdasarkan tingkat kepentingan produk\n",
    "Analisa yang akan dilakukan pertama kali adalah apakah ketepatan waktu pengiriman dipengaruhi oleh Product importance.\n",
    "\n",
    "Data `Product_importance` berisi __low__, __medium__ dan __high__ product importance. Pertama-tama akan dilihat proporsi dari masing-masing product importance. "
   ]
  },
  {
   "cell_type": "code",
   "execution_count": 7,
   "metadata": {},
   "outputs": [
    {
     "data": {
      "text/html": [
       "<div>\n",
       "<style scoped>\n",
       "    .dataframe tbody tr th:only-of-type {\n",
       "        vertical-align: middle;\n",
       "    }\n",
       "\n",
       "    .dataframe tbody tr th {\n",
       "        vertical-align: top;\n",
       "    }\n",
       "\n",
       "    .dataframe thead th {\n",
       "        text-align: right;\n",
       "    }\n",
       "</style>\n",
       "<table border=\"1\" class=\"dataframe\">\n",
       "  <thead>\n",
       "    <tr style=\"text-align: right;\">\n",
       "      <th></th>\n",
       "      <th>Product_importance</th>\n",
       "      <th>Count</th>\n",
       "    </tr>\n",
       "  </thead>\n",
       "  <tbody>\n",
       "    <tr>\n",
       "      <th>0</th>\n",
       "      <td>low</td>\n",
       "      <td>5297</td>\n",
       "    </tr>\n",
       "    <tr>\n",
       "      <th>1</th>\n",
       "      <td>medium</td>\n",
       "      <td>4754</td>\n",
       "    </tr>\n",
       "    <tr>\n",
       "      <th>2</th>\n",
       "      <td>high</td>\n",
       "      <td>948</td>\n",
       "    </tr>\n",
       "  </tbody>\n",
       "</table>\n",
       "</div>"
      ],
      "text/plain": [
       "  Product_importance  Count\n",
       "0                low   5297\n",
       "1             medium   4754\n",
       "2               high    948"
      ]
     },
     "execution_count": 7,
     "metadata": {},
     "output_type": "execute_result"
    }
   ],
   "source": [
    "#Frekuensi\n",
    "important_count = df['Product_importance'].value_counts().reset_index()\n",
    "important_count.columns = ['Product_importance', 'Count']\n",
    "important_count"
   ]
  },
  {
   "cell_type": "code",
   "execution_count": 8,
   "metadata": {},
   "outputs": [
    {
     "data": {
      "text/html": [
       "<div>\n",
       "<style scoped>\n",
       "    .dataframe tbody tr th:only-of-type {\n",
       "        vertical-align: middle;\n",
       "    }\n",
       "\n",
       "    .dataframe tbody tr th {\n",
       "        vertical-align: top;\n",
       "    }\n",
       "\n",
       "    .dataframe thead th {\n",
       "        text-align: right;\n",
       "    }\n",
       "</style>\n",
       "<table border=\"1\" class=\"dataframe\">\n",
       "  <thead>\n",
       "    <tr style=\"text-align: right;\">\n",
       "      <th>Reached.on.Time_Y.N</th>\n",
       "      <th>late</th>\n",
       "      <th>ontime</th>\n",
       "      <th>Total</th>\n",
       "    </tr>\n",
       "    <tr>\n",
       "      <th>Product_importance</th>\n",
       "      <th></th>\n",
       "      <th></th>\n",
       "      <th></th>\n",
       "    </tr>\n",
       "  </thead>\n",
       "  <tbody>\n",
       "    <tr>\n",
       "      <th>high</th>\n",
       "      <td>0.649789</td>\n",
       "      <td>0.350211</td>\n",
       "      <td>1.0</td>\n",
       "    </tr>\n",
       "    <tr>\n",
       "      <th>low</th>\n",
       "      <td>0.592788</td>\n",
       "      <td>0.407212</td>\n",
       "      <td>1.0</td>\n",
       "    </tr>\n",
       "    <tr>\n",
       "      <th>medium</th>\n",
       "      <td>0.590450</td>\n",
       "      <td>0.409550</td>\n",
       "      <td>1.0</td>\n",
       "    </tr>\n",
       "  </tbody>\n",
       "</table>\n",
       "</div>"
      ],
      "text/plain": [
       "Reached.on.Time_Y.N      late    ontime  Total\n",
       "Product_importance                            \n",
       "high                 0.649789  0.350211    1.0\n",
       "low                  0.592788  0.407212    1.0\n",
       "medium               0.590450  0.409550    1.0"
      ]
     },
     "execution_count": 8,
     "metadata": {},
     "output_type": "execute_result"
    }
   ],
   "source": [
    "#proporsi\n",
    "ct_important=pd.crosstab(df['Product_importance'],df['Reached.on.Time_Y.N'],normalize='index').sort_index()\n",
    "ct_important['Total']=ct_important.sum(axis=1)\n",
    "ct_important"
   ]
  },
  {
   "cell_type": "code",
   "execution_count": 9,
   "metadata": {},
   "outputs": [
    {
     "data": {
      "image/png": "[encoded data removed]",
      "text/plain": [
       "<Figure size 1200x400 with 1 Axes>"
      ]
     },
     "metadata": {},
     "output_type": "display_data"
    }
   ],
   "source": [
    "plt.figure(figsize=(12,4))\n",
    "plt.bar(np.arange(df['Product_importance'].nunique()),ct_important['Total'])\n",
    "plt.bar(np.arange(df['Product_importance'].nunique()),ct_important['late'])\n",
    "plt.xlabel('Reached.on.Time_Y.N')\n",
    "plt.ylabel(f'Proportion Product_importance')\n",
    "plt.legend(['ontime','late'])\n",
    "plt.xticks(np.arange(len(ct_important.index.tolist())),ct_important.index.tolist())\n",
    "plt.title('Product_importance')\n",
    "plt.show()"
   ]
  },
  {
   "cell_type": "markdown",
   "metadata": {},
   "source": [
    "* Berdasarkan data, dapat dipahami bahwa proporsi antara product importance low, medium dan high memiliki selisih yang sedikit dengan product importance high memiliki proporsi terjadinya keterlambatan paling tinggi dibandingkan product importance lainnya (peluang terjadinya keterlambatan tiap pengiriman tertinggi). \n",
    "* Untuk masing-masing product importance cenderung terlambat dalam pengiriman. "
   ]
  },
  {
   "cell_type": "code",
   "execution_count": 10,
   "metadata": {},
   "outputs": [
    {
     "name": "stdout",
     "output_type": "stream",
     "text": [
      "chi2 statistic:     12.211\n",
      "pvalue:            0.0022304\n",
      "degrees of freedom: 2\n",
      "Pvalue= 0.0022304. Pvalue <= 0.05. Tolak Ho.\n"
     ]
    }
   ],
   "source": [
    "ct_table_ind=pd.crosstab(df[\"Product_importance\"],df[\"Reached.on.Time_Y.N\"])\n",
    "\n",
    "chi2_stat, p, dof, expected = scipy.stats.chi2_contingency(ct_table_ind)\n",
    " \n",
    "print(f\"chi2 statistic:     {chi2_stat:.5g}\")\n",
    "print(f\"pvalue:            {p:.5g}\")\n",
    "print(f\"degrees of freedom: {dof}\")\n",
    "\n",
    "if p> 0.05: \n",
    "    print(f'Pvalue= {p:.5g}. Pvalue > 0.05. Menerima Ho.')\n",
    "else:\n",
    "    print(f'Pvalue= {p:.5g}. Pvalue <= 0.05. Tolak Ho.')"
   ]
  },
  {
   "cell_type": "markdown",
   "metadata": {},
   "source": [
    "Dari hasil uji statistik kita mempunyai cukup bukti untuk mengatakan bahwa Product_importance dan reached time terkait/dependant (Proporsinya berbeda signifikan)"
   ]
  },
  {
   "cell_type": "markdown",
   "metadata": {},
   "source": [
    "* ### Analisis ketepatan waktu pengiriman berdasarkan berat kiriman\n",
    "Melakakukan analisa pengaruh dari kategori berat pengiriman terhadap ketepatan waktu pengiriman.\n",
    "\n",
    "Data `Weight_category` terdiri atas 3 kategori yaitu __light__, __medium__ dan __heavy__. Tabel proporsi kepuasan digunakan untuk mengetahui besaran proporsi"
   ]
  },
  {
   "cell_type": "code",
   "execution_count": 11,
   "metadata": {},
   "outputs": [
    {
     "data": {
      "text/html": [
       "<div>\n",
       "<style scoped>\n",
       "    .dataframe tbody tr th:only-of-type {\n",
       "        vertical-align: middle;\n",
       "    }\n",
       "\n",
       "    .dataframe tbody tr th {\n",
       "        vertical-align: top;\n",
       "    }\n",
       "\n",
       "    .dataframe thead th {\n",
       "        text-align: right;\n",
       "    }\n",
       "</style>\n",
       "<table border=\"1\" class=\"dataframe\">\n",
       "  <thead>\n",
       "    <tr style=\"text-align: right;\">\n",
       "      <th></th>\n",
       "      <th>Weight_category</th>\n",
       "      <th>Count</th>\n",
       "    </tr>\n",
       "  </thead>\n",
       "  <tbody>\n",
       "    <tr>\n",
       "      <th>0</th>\n",
       "      <td>medium</td>\n",
       "      <td>5499</td>\n",
       "    </tr>\n",
       "    <tr>\n",
       "      <th>1</th>\n",
       "      <td>light</td>\n",
       "      <td>3984</td>\n",
       "    </tr>\n",
       "    <tr>\n",
       "      <th>2</th>\n",
       "      <td>heavy</td>\n",
       "      <td>1516</td>\n",
       "    </tr>\n",
       "  </tbody>\n",
       "</table>\n",
       "</div>"
      ],
      "text/plain": [
       "  Weight_category  Count\n",
       "0          medium   5499\n",
       "1           light   3984\n",
       "2           heavy   1516"
      ]
     },
     "execution_count": 11,
     "metadata": {},
     "output_type": "execute_result"
    }
   ],
   "source": [
    "#Frekuensi\n",
    "weight_count = df['Weight_category'].value_counts().reset_index()\n",
    "weight_count.columns = ['Weight_category', 'Count']\n",
    "weight_count"
   ]
  },
  {
   "cell_type": "code",
   "execution_count": 12,
   "metadata": {},
   "outputs": [
    {
     "data": {
      "text/html": [
       "<div>\n",
       "<style scoped>\n",
       "    .dataframe tbody tr th:only-of-type {\n",
       "        vertical-align: middle;\n",
       "    }\n",
       "\n",
       "    .dataframe tbody tr th {\n",
       "        vertical-align: top;\n",
       "    }\n",
       "\n",
       "    .dataframe thead th {\n",
       "        text-align: right;\n",
       "    }\n",
       "</style>\n",
       "<table border=\"1\" class=\"dataframe\">\n",
       "  <thead>\n",
       "    <tr style=\"text-align: right;\">\n",
       "      <th>Reached.on.Time_Y.N</th>\n",
       "      <th>late</th>\n",
       "      <th>ontime</th>\n",
       "      <th>Total</th>\n",
       "    </tr>\n",
       "    <tr>\n",
       "      <th>Weight_category</th>\n",
       "      <th></th>\n",
       "      <th></th>\n",
       "      <th></th>\n",
       "    </tr>\n",
       "  </thead>\n",
       "  <tbody>\n",
       "    <tr>\n",
       "      <th>heavy</th>\n",
       "      <td>0.428760</td>\n",
       "      <td>0.571240</td>\n",
       "      <td>1.0</td>\n",
       "    </tr>\n",
       "    <tr>\n",
       "      <th>light</th>\n",
       "      <td>0.737450</td>\n",
       "      <td>0.262550</td>\n",
       "      <td>1.0</td>\n",
       "    </tr>\n",
       "    <tr>\n",
       "      <th>medium</th>\n",
       "      <td>0.541007</td>\n",
       "      <td>0.458993</td>\n",
       "      <td>1.0</td>\n",
       "    </tr>\n",
       "  </tbody>\n",
       "</table>\n",
       "</div>"
      ],
      "text/plain": [
       "Reached.on.Time_Y.N      late    ontime  Total\n",
       "Weight_category                               \n",
       "heavy                0.428760  0.571240    1.0\n",
       "light                0.737450  0.262550    1.0\n",
       "medium               0.541007  0.458993    1.0"
      ]
     },
     "execution_count": 12,
     "metadata": {},
     "output_type": "execute_result"
    }
   ],
   "source": [
    "ct_weight=pd.crosstab(df['Weight_category'],df['Reached.on.Time_Y.N'],normalize='index').sort_index()\n",
    "ct_weight['Total']=ct_weight.sum(axis=1)\n",
    "ct_weight"
   ]
  },
  {
   "cell_type": "code",
   "execution_count": 13,
   "metadata": {},
   "outputs": [
    {
     "data": {
      "image/png": "[encoded data removed]",
      "text/plain": [
       "<Figure size 1200x400 with 1 Axes>"
      ]
     },
     "metadata": {},
     "output_type": "display_data"
    }
   ],
   "source": [
    "plt.figure(figsize=(12,4))\n",
    "plt.bar(np.arange(df['Weight_category'].nunique()),ct_weight['Total'])\n",
    "plt.bar(np.arange(df['Weight_category'].nunique()),ct_weight['late'])\n",
    "\n",
    "plt.xlabel('Reached.on.Time_Y.N')\n",
    "plt.ylabel(f'Proportion Weight_category')\n",
    "\n",
    "plt.legend(['ontime','late'])\n",
    "plt.xticks(np.arange(len(ct_weight.index.tolist())),ct_weight.index.tolist())\n",
    "plt.title('Weight_category')\n",
    "plt.show()"
   ]
  },
  {
   "cell_type": "markdown",
   "metadata": {},
   "source": [
    "* Dapat dilihat bahwa proporsi antar berat kiriman yang terdiri dari light, medium dan heavy dimana light weight memiliki probabilitas  terjadinya keterlambatan tertinggi dengan 73% kemungkinan terjadinya keterlambatan pada setiap terjadinya pengiriman.\n",
    "\n",
    "* Dapat diihat juga bahwasanya produk yang termasuk kedalam produk yang berat memiliki nilai keterlambatan yang lebih rendah daripada produk yang ringan atau sedang.\n",
    "\n",
    "* Untuk masing-masing kategori berat produk cenderung menghasilkan keterlambatan dalam setiap pengiriman."
   ]
  },
  {
   "cell_type": "code",
   "execution_count": 29,
   "metadata": {},
   "outputs": [
    {
     "name": "stdout",
     "output_type": "stream",
     "text": [
      "chi2 statistic:     576.51\n",
      "pvalue:            6.4863e-126\n",
      "degrees of freedom: 2\n",
      "Pvalue= 6.4863e-126. Pvalue <= 0.05. Menolak Ho.\n"
     ]
    }
   ],
   "source": [
    "ct_table_ind=pd.crosstab(df[\"Weight_category\"],df[\"Reached.on.Time_Y.N\"])\n",
    "\n",
    "chi2_stat, p, dof, expected = scipy.stats.chi2_contingency(ct_table_ind)\n",
    " \n",
    "print(f\"chi2 statistic:     {chi2_stat:.5g}\")\n",
    "print(f\"pvalue:            {p:.5g}\")\n",
    "print(f\"degrees of freedom: {dof}\")\n",
    "\n",
    "if p> 0.05: \n",
    "    print(f'Pvalue= {p:.5g}. Pvalue > 0.05. Menerima Ho.')\n",
    "else:\n",
    "    print(f'Pvalue= {p:.5g}. Pvalue <= 0.05. Menolak Ho.')"
   ]
  },
  {
   "cell_type": "markdown",
   "metadata": {},
   "source": [
    "Dari hasil uji statistik kita mempunyai cukup bukti untuk mengatakan bahwa Weight_category dan reached time terkait/dependant (Proporsinya berbeda signifikan)"
   ]
  },
  {
   "cell_type": "markdown",
   "metadata": {},
   "source": [
    "* ### Analisis Kombinasi antar faktor yang terkait dengan produk"
   ]
  },
  {
   "cell_type": "markdown",
   "metadata": {},
   "source": [
    "Tahap ini akan melihat seberapa besar proprsi terjadinya keterlambatan maupun tepat waktu dalam pengiriman produk sampai ke tangan customer dilihat dari kombinasi faktor-faktor yang berkaitan dengan produk, dalam hal ini adalah __`Product_importance`__ dan __`Weight_category`__"
   ]
  },
  {
   "cell_type": "code",
   "execution_count": 27,
   "metadata": {},
   "outputs": [
    {
     "data": {
      "application/vnd.plotly.v1+json": {
       "config": {
        "plotlyServerURL": "https://plot.ly"
       },
       "data": [
        {
         "branchvalues": "total",
         "domain": {
          "x": [
           0,
           1
          ],
          "y": [
           0,
           1
          ]
         },
         "hovertemplate": "labels=%{label}<br>count=%{value}<br>parent=%{parent}<br>id=%{id}<extra></extra>",
         "ids": [
          "On time or Late?/late/high/heavy",
          "On time or Late?/ontime/high/heavy",
          "On time or Late?/late/low/heavy",
          "On time or Late?/ontime/low/heavy",
          "On time or Late?/late/medium/heavy",
          "On time or Late?/ontime/medium/heavy",
          "On time or Late?/late/high/light",
          "On time or Late?/ontime/high/light",
          "On time or Late?/late/low/light",
          "On time or Late?/ontime/low/light",
          "On time or Late?/late/medium/light",
          "On time or Late?/ontime/medium/light",
          "On time or Late?/late/high/medium",
          "On time or Late?/ontime/high/medium",
          "On time or Late?/late/low/medium",
          "On time or Late?/ontime/low/medium",
          "On time or Late?/late/medium/medium",
          "On time or Late?/ontime/medium/medium",
          "On time or Late?/late/high",
          "On time or Late?/ontime/high",
          "On time or Late?/late/low",
          "On time or Late?/ontime/low",
          "On time or Late?/late/medium",
          "On time or Late?/ontime/medium",
          "On time or Late?/late",
          "On time or Late?/ontime",
          "On time or Late?"
         ],
         "labels": [
          "heavy",
          "heavy",
          "heavy",
          "heavy",
          "heavy",
          "heavy",
          "light",
          "light",
          "light",
          "light",
          "light",
          "light",
          "medium",
          "medium",
          "medium",
          "medium",
          "medium",
          "medium",
          "high",
          "high",
          "low",
          "low",
          "medium",
          "medium",
          "late",
          "ontime",
          "On time or Late?"
         ],
         "name": "",
         "parents": [
          "On time or Late?/late/high",
          "On time or Late?/ontime/high",
          "On time or Late?/late/low",
          "On time or Late?/ontime/low",
          "On time or Late?/late/medium",
          "On time or Late?/ontime/medium",
          "On time or Late?/late/high",
          "On time or Late?/ontime/high",
          "On time or Late?/late/low",
          "On time or Late?/ontime/low",
          "On time or Late?/late/medium",
          "On time or Late?/ontime/medium",
          "On time or Late?/late/high",
          "On time or Late?/ontime/high",
          "On time or Late?/late/low",
          "On time or Late?/ontime/low",
          "On time or Late?/late/medium",
          "On time or Late?/ontime/medium",
          "On time or Late?/late",
          "On time or Late?/ontime",
          "On time or Late?/late",
          "On time or Late?/ontime",
          "On time or Late?/late",
          "On time or Late?/ontime",
          "On time or Late?",
          "On time or Late?",
          ""
         ],
         "textinfo": "label+percent parent",
         "type": "sunburst",
         "values": [
          76,
          73,
          291,
          420,
          283,
          373,
          214,
          17,
          1534,
          617,
          1190,
          412,
          326,
          242,
          1315,
          1120,
          1334,
          1162,
          616,
          332,
          3140,
          2157,
          2807,
          1947,
          6563,
          4436,
          10999
         ]
        }
       ],
       "layout": {
        "height": 600,
        "legend": {
         "tracegroupgap": 0
        },
        "template": {
         "data": {
          "bar": [
           {
            "error_x": {
             "color": "#2a3f5f"
            },
            "error_y": {
             "color": "#2a3f5f"
            },
            "marker": {
             "line": {
              "color": "#E5ECF6",
              "width": 0.5
             },
             "pattern": {
              "fillmode": "overlay",
              "size": 10,
              "solidity": 0.2
             }
            },
            "type": "bar"
           }
          ],
          "barpolar": [
           {
            "marker": {
             "line": {
              "color": "#E5ECF6",
              "width": 0.5
             },
             "pattern": {
              "fillmode": "overlay",
              "size": 10,
              "solidity": 0.2
             }
            },
            "type": "barpolar"
           }
          ],
          "carpet": [
           {
            "aaxis": {
             "endlinecolor": "#2a3f5f",
             "gridcolor": "white",
             "linecolor": "white",
             "minorgridcolor": "white",
             "startlinecolor": "#2a3f5f"
            },
            "baxis": {
             "endlinecolor": "#2a3f5f",
             "gridcolor": "white",
             "linecolor": "white",
             "minorgridcolor": "white",
             "startlinecolor": "#2a3f5f"
            },
            "type": "carpet"
           }
          ],
          "choropleth": [
           {
            "colorbar": {
             "outlinewidth": 0,
             "ticks": ""
            },
            "type": "choropleth"
           }
          ],
          "contour": [
           {
            "colorbar": {
             "outlinewidth": 0,
             "ticks": ""
            },
            "colorscale": [
             [
              0,
              "#0d0887"
             ],
             [
              0.1111111111111111,
              "#46039f"
             ],
             [
              0.2222222222222222,
              "#7201a8"
             ],
             [
              0.3333333333333333,
              "#9c179e"
             ],
             [
              0.4444444444444444,
              "#bd3786"
             ],
             [
              0.5555555555555556,
              "#d8576b"
             ],
             [
              0.6666666666666666,
              "#ed7953"
             ],
             [
              0.7777777777777778,
              "#fb9f3a"
             ],
             [
              0.8888888888888888,
              "#fdca26"
             ],
             [
              1,
              "#f0f921"
             ]
            ],
            "type": "contour"
           }
          ],
          "contourcarpet": [
           {
            "colorbar": {
             "outlinewidth": 0,
             "ticks": ""
            },
            "type": "contourcarpet"
           }
          ],
          "heatmap": [
           {
            "colorbar": {
             "outlinewidth": 0,
             "ticks": ""
            },
            "colorscale": [
             [
              0,
              "#0d0887"
             ],
             [
              0.1111111111111111,
              "#46039f"
             ],
             [
              0.2222222222222222,
              "#7201a8"
             ],
             [
              0.3333333333333333,
              "#9c179e"
             ],
             [
              0.4444444444444444,
              "#bd3786"
             ],
             [
              0.5555555555555556,
              "#d8576b"
             ],
             [
              0.6666666666666666,
              "#ed7953"
             ],
             [
              0.7777777777777778,
              "#fb9f3a"
             ],
             [
              0.8888888888888888,
              "#fdca26"
             ],
             [
              1,
              "#f0f921"
             ]
            ],
            "type": "heatmap"
           }
          ],
          "heatmapgl": [
           {
            "colorbar": {
             "outlinewidth": 0,
             "ticks": ""
            },
            "colorscale": [
             [
              0,
              "#0d0887"
             ],
             [
              0.1111111111111111,
              "#46039f"
             ],
             [
              0.2222222222222222,
              "#7201a8"
             ],
             [
              0.3333333333333333,
              "#9c179e"
             ],
             [
              0.4444444444444444,
              "#bd3786"
             ],
             [
              0.5555555555555556,
              "#d8576b"
             ],
             [
              0.6666666666666666,
              "#ed7953"
             ],
             [
              0.7777777777777778,
              "#fb9f3a"
             ],
             [
              0.8888888888888888,
              "#fdca26"
             ],
             [
              1,
              "#f0f921"
             ]
            ],
            "type": "heatmapgl"
           }
          ],
          "histogram": [
           {
            "marker": {
             "pattern": {
              "fillmode": "overlay",
              "size": 10,
              "solidity": 0.2
             }
            },
            "type": "histogram"
           }
          ],
          "histogram2d": [
           {
            "colorbar": {
             "outlinewidth": 0,
             "ticks": ""
            },
            "colorscale": [
             [
              0,
              "#0d0887"
             ],
             [
              0.1111111111111111,
              "#46039f"
             ],
             [
              0.2222222222222222,
              "#7201a8"
             ],
             [
              0.3333333333333333,
              "#9c179e"
             ],
             [
              0.4444444444444444,
              "#bd3786"
             ],
             [
              0.5555555555555556,
              "#d8576b"
             ],
             [
              0.6666666666666666,
              "#ed7953"
             ],
             [
              0.7777777777777778,
              "#fb9f3a"
             ],
             [
              0.8888888888888888,
              "#fdca26"
             ],
             [
              1,
              "#f0f921"
             ]
            ],
            "type": "histogram2d"
           }
          ],
          "histogram2dcontour": [
           {
            "colorbar": {
             "outlinewidth": 0,
             "ticks": ""
            },
            "colorscale": [
             [
              0,
              "#0d0887"
             ],
             [
              0.1111111111111111,
              "#46039f"
             ],
             [
              0.2222222222222222,
              "#7201a8"
             ],
             [
              0.3333333333333333,
              "#9c179e"
             ],
             [
              0.4444444444444444,
              "#bd3786"
             ],
             [
              0.5555555555555556,
              "#d8576b"
             ],
             [
              0.6666666666666666,
              "#ed7953"
             ],
             [
              0.7777777777777778,
              "#fb9f3a"
             ],
             [
              0.8888888888888888,
              "#fdca26"
             ],
             [
              1,
              "#f0f921"
             ]
            ],
            "type": "histogram2dcontour"
           }
          ],
          "mesh3d": [
           {
            "colorbar": {
             "outlinewidth": 0,
             "ticks": ""
            },
            "type": "mesh3d"
           }
          ],
          "parcoords": [
           {
            "line": {
             "colorbar": {
              "outlinewidth": 0,
              "ticks": ""
             }
            },
            "type": "parcoords"
           }
          ],
          "pie": [
           {
            "automargin": true,
            "type": "pie"
           }
          ],
          "scatter": [
           {
            "fillpattern": {
             "fillmode": "overlay",
             "size": 10,
             "solidity": 0.2
            },
            "type": "scatter"
           }
          ],
          "scatter3d": [
           {
            "line": {
             "colorbar": {
              "outlinewidth": 0,
              "ticks": ""
             }
            },
            "marker": {
             "colorbar": {
              "outlinewidth": 0,
              "ticks": ""
             }
            },
            "type": "scatter3d"
           }
          ],
          "scattercarpet": [
           {
            "marker": {
             "colorbar": {
              "outlinewidth": 0,
              "ticks": ""
             }
            },
            "type": "scattercarpet"
           }
          ],
          "scattergeo": [
           {
            "marker": {
             "colorbar": {
              "outlinewidth": 0,
              "ticks": ""
             }
            },
            "type": "scattergeo"
           }
          ],
          "scattergl": [
           {
            "marker": {
             "colorbar": {
              "outlinewidth": 0,
              "ticks": ""
             }
            },
            "type": "scattergl"
           }
          ],
          "scattermapbox": [
           {
            "marker": {
             "colorbar": {
              "outlinewidth": 0,
              "ticks": ""
             }
            },
            "type": "scattermapbox"
           }
          ],
          "scatterpolar": [
           {
            "marker": {
             "colorbar": {
              "outlinewidth": 0,
              "ticks": ""
             }
            },
            "type": "scatterpolar"
           }
          ],
          "scatterpolargl": [
           {
            "marker": {
             "colorbar": {
              "outlinewidth": 0,
              "ticks": ""
             }
            },
            "type": "scatterpolargl"
           }
          ],
          "scatterternary": [
           {
            "marker": {
             "colorbar": {
              "outlinewidth": 0,
              "ticks": ""
             }
            },
            "type": "scatterternary"
           }
          ],
          "surface": [
           {
            "colorbar": {
             "outlinewidth": 0,
             "ticks": ""
            },
            "colorscale": [
             [
              0,
              "#0d0887"
             ],
             [
              0.1111111111111111,
              "#46039f"
             ],
             [
              0.2222222222222222,
              "#7201a8"
             ],
             [
              0.3333333333333333,
              "#9c179e"
             ],
             [
              0.4444444444444444,
              "#bd3786"
             ],
             [
              0.5555555555555556,
              "#d8576b"
             ],
             [
              0.6666666666666666,
              "#ed7953"
             ],
             [
              0.7777777777777778,
              "#fb9f3a"
             ],
             [
              0.8888888888888888,
              "#fdca26"
             ],
             [
              1,
              "#f0f921"
             ]
            ],
            "type": "surface"
           }
          ],
          "table": [
           {
            "cells": {
             "fill": {
              "color": "#EBF0F8"
             },
             "line": {
              "color": "white"
             }
            },
            "header": {
             "fill": {
              "color": "#C8D4E3"
             },
             "line": {
              "color": "white"
             }
            },
            "type": "table"
           }
          ]
         },
         "layout": {
          "annotationdefaults": {
           "arrowcolor": "#2a3f5f",
           "arrowhead": 0,
           "arrowwidth": 1
          },
          "autotypenumbers": "strict",
          "coloraxis": {
           "colorbar": {
            "outlinewidth": 0,
            "ticks": ""
           }
          },
          "colorscale": {
           "diverging": [
            [
             0,
             "#8e0152"
            ],
            [
             0.1,
             "#c51b7d"
            ],
            [
             0.2,
             "#de77ae"
            ],
            [
             0.3,
             "#f1b6da"
            ],
            [
             0.4,
             "#fde0ef"
            ],
            [
             0.5,
             "#f7f7f7"
            ],
            [
             0.6,
             "#e6f5d0"
            ],
            [
             0.7,
             "#b8e186"
            ],
            [
             0.8,
             "#7fbc41"
            ],
            [
             0.9,
             "#4d9221"
            ],
            [
             1,
             "#276419"
            ]
           ],
           "sequential": [
            [
             0,
             "#0d0887"
            ],
            [
             0.1111111111111111,
             "#46039f"
            ],
            [
             0.2222222222222222,
             "#7201a8"
            ],
            [
             0.3333333333333333,
             "#9c179e"
            ],
            [
             0.4444444444444444,
             "#bd3786"
            ],
            [
             0.5555555555555556,
             "#d8576b"
            ],
            [
             0.6666666666666666,
             "#ed7953"
            ],
            [
             0.7777777777777778,
             "#fb9f3a"
            ],
            [
             0.8888888888888888,
             "#fdca26"
            ],
            [
             1,
             "#f0f921"
            ]
           ],
           "sequentialminus": [
            [
             0,
             "#0d0887"
            ],
            [
             0.1111111111111111,
             "#46039f"
            ],
            [
             0.2222222222222222,
             "#7201a8"
            ],
            [
             0.3333333333333333,
             "#9c179e"
            ],
            [
             0.4444444444444444,
             "#bd3786"
            ],
            [
             0.5555555555555556,
             "#d8576b"
            ],
            [
             0.6666666666666666,
             "#ed7953"
            ],
            [
             0.7777777777777778,
             "#fb9f3a"
            ],
            [
             0.8888888888888888,
             "#fdca26"
            ],
            [
             1,
             "#f0f921"
            ]
           ]
          },
          "colorway": [
           "#636efa",
           "#EF553B",
           "#00cc96",
           "#ab63fa",
           "#FFA15A",
           "#19d3f3",
           "#FF6692",
           "#B6E880",
           "#FF97FF",
           "#FECB52"
          ],
          "font": {
           "color": "#2a3f5f"
          },
          "geo": {
           "bgcolor": "white",
           "lakecolor": "white",
           "landcolor": "#E5ECF6",
           "showlakes": true,
           "showland": true,
           "subunitcolor": "white"
          },
          "hoverlabel": {
           "align": "left"
          },
          "hovermode": "closest",
          "mapbox": {
           "style": "light"
          },
          "paper_bgcolor": "white",
          "plot_bgcolor": "#E5ECF6",
          "polar": {
           "angularaxis": {
            "gridcolor": "white",
            "linecolor": "white",
            "ticks": ""
           },
           "bgcolor": "#E5ECF6",
           "radialaxis": {
            "gridcolor": "white",
            "linecolor": "white",
            "ticks": ""
           }
          },
          "scene": {
           "xaxis": {
            "backgroundcolor": "#E5ECF6",
            "gridcolor": "white",
            "gridwidth": 2,
            "linecolor": "white",
            "showbackground": true,
            "ticks": "",
            "zerolinecolor": "white"
           },
           "yaxis": {
            "backgroundcolor": "#E5ECF6",
            "gridcolor": "white",
            "gridwidth": 2,
            "linecolor": "white",
            "showbackground": true,
            "ticks": "",
            "zerolinecolor": "white"
           },
           "zaxis": {
            "backgroundcolor": "#E5ECF6",
            "gridcolor": "white",
            "gridwidth": 2,
            "linecolor": "white",
            "showbackground": true,
            "ticks": "",
            "zerolinecolor": "white"
           }
          },
          "shapedefaults": {
           "line": {
            "color": "#2a3f5f"
           }
          },
          "ternary": {
           "aaxis": {
            "gridcolor": "white",
            "linecolor": "white",
            "ticks": ""
           },
           "baxis": {
            "gridcolor": "white",
            "linecolor": "white",
            "ticks": ""
           },
           "bgcolor": "#E5ECF6",
           "caxis": {
            "gridcolor": "white",
            "linecolor": "white",
            "ticks": ""
           }
          },
          "title": {
           "x": 0.05
          },
          "xaxis": {
           "automargin": true,
           "gridcolor": "white",
           "linecolor": "white",
           "ticks": "",
           "title": {
            "standoff": 15
           },
           "zerolinecolor": "white",
           "zerolinewidth": 2
          },
          "yaxis": {
           "automargin": true,
           "gridcolor": "white",
           "linecolor": "white",
           "ticks": "",
           "title": {
            "standoff": 15
           },
           "zerolinecolor": "white",
           "zerolinewidth": 2
          }
         }
        },
        "title": {
         "text": "Proporsi ketepatan waktu pengiriman Berdasarkan Produk"
        },
        "width": 600
       }
      }
     },
     "metadata": {},
     "output_type": "display_data"
    }
   ],
   "source": [
    "df['Reach_time'] = 'On time or Late?'\n",
    "fig = px.sunburst(\n",
    "    df,path=['Reach_time','Reached.on.Time_Y.N','Product_importance','Weight_category'],\n",
    "    title=f'Proporsi ketepatan waktu pengiriman Berdasarkan Produk',\n",
    "    width=600, \n",
    "    height=600,\n",
    ")\n",
    "\n",
    "fig.update_traces(textinfo=\"label+percent parent\")                  \n",
    "fig.show()"
   ]
  },
  {
   "cell_type": "markdown",
   "metadata": {},
   "source": [
    "Dari sunburst chart diatas, kita dapat melihat kombinasi faktor yang menghasilkan persentase tepat waktu dan keterlambatan terbesar, dimana perpaduan antara produk dengan tingkat kepentingan sedang dan kategori berat sedang menghasilkan ketepatan waktu pengiriman terbanyak dengan 1162 pengiriman, dan untuk persentase keterlambatan terbanyak dihasilkan oleh produk dengan tingkat kepentingan rendah dan kategori berat ringan dengan 1534 keterlambatan pengiriman."
   ]
  },
  {
   "cell_type": "markdown",
   "metadata": {},
   "source": [
    "* ### Analisis ketepatan waktu pengiriman berdasarkan jumlah panggilan ke customer care\n",
    "\n",
    "Selanjutnya akan dianalisa pengaruh banyaknya panggilan ke customer care pada ketepatan waktu pengiriman.\n",
    "\n",
    "Data Customer_calls_class berisi 3 class yang terdiri dari __seldom calls__, __occasionally calls__ dan __frequently calls__. Untuk mengetahui proporsi, digunakan fungsi tabel proporsi kepuasan. "
   ]
  },
  {
   "cell_type": "code",
   "execution_count": 16,
   "metadata": {},
   "outputs": [
    {
     "data": {
      "text/html": [
       "<div>\n",
       "<style scoped>\n",
       "    .dataframe tbody tr th:only-of-type {\n",
       "        vertical-align: middle;\n",
       "    }\n",
       "\n",
       "    .dataframe tbody tr th {\n",
       "        vertical-align: top;\n",
       "    }\n",
       "\n",
       "    .dataframe thead th {\n",
       "        text-align: right;\n",
       "    }\n",
       "</style>\n",
       "<table border=\"1\" class=\"dataframe\">\n",
       "  <thead>\n",
       "    <tr style=\"text-align: right;\">\n",
       "      <th></th>\n",
       "      <th>Customer_calls_class</th>\n",
       "      <th>Count</th>\n",
       "    </tr>\n",
       "  </thead>\n",
       "  <tbody>\n",
       "    <tr>\n",
       "      <th>0</th>\n",
       "      <td>seldom calls</td>\n",
       "      <td>3855</td>\n",
       "    </tr>\n",
       "    <tr>\n",
       "      <th>1</th>\n",
       "      <td>frequently calls</td>\n",
       "      <td>3587</td>\n",
       "    </tr>\n",
       "    <tr>\n",
       "      <th>2</th>\n",
       "      <td>occasionally calls</td>\n",
       "      <td>3557</td>\n",
       "    </tr>\n",
       "  </tbody>\n",
       "</table>\n",
       "</div>"
      ],
      "text/plain": [
       "  Customer_calls_class  Count\n",
       "0         seldom calls   3855\n",
       "1     frequently calls   3587\n",
       "2   occasionally calls   3557"
      ]
     },
     "execution_count": 16,
     "metadata": {},
     "output_type": "execute_result"
    }
   ],
   "source": [
    "#Frekuensi\n",
    "calls_count = df['Customer_calls_class'].value_counts().reset_index()\n",
    "calls_count.columns = ['Customer_calls_class', 'Count']\n",
    "calls_count"
   ]
  },
  {
   "cell_type": "code",
   "execution_count": 17,
   "metadata": {},
   "outputs": [
    {
     "data": {
      "text/html": [
       "<div>\n",
       "<style scoped>\n",
       "    .dataframe tbody tr th:only-of-type {\n",
       "        vertical-align: middle;\n",
       "    }\n",
       "\n",
       "    .dataframe tbody tr th {\n",
       "        vertical-align: top;\n",
       "    }\n",
       "\n",
       "    .dataframe thead th {\n",
       "        text-align: right;\n",
       "    }\n",
       "</style>\n",
       "<table border=\"1\" class=\"dataframe\">\n",
       "  <thead>\n",
       "    <tr style=\"text-align: right;\">\n",
       "      <th>Reached.on.Time_Y.N</th>\n",
       "      <th>late</th>\n",
       "      <th>ontime</th>\n",
       "      <th>Total</th>\n",
       "    </tr>\n",
       "    <tr>\n",
       "      <th>Customer_calls_class</th>\n",
       "      <th></th>\n",
       "      <th></th>\n",
       "      <th></th>\n",
       "    </tr>\n",
       "  </thead>\n",
       "  <tbody>\n",
       "    <tr>\n",
       "      <th>frequently calls</th>\n",
       "      <td>0.560357</td>\n",
       "      <td>0.439643</td>\n",
       "      <td>1.0</td>\n",
       "    </tr>\n",
       "    <tr>\n",
       "      <th>occasionally calls</th>\n",
       "      <td>0.597695</td>\n",
       "      <td>0.402305</td>\n",
       "      <td>1.0</td>\n",
       "    </tr>\n",
       "    <tr>\n",
       "      <th>seldom calls</th>\n",
       "      <td>0.629572</td>\n",
       "      <td>0.370428</td>\n",
       "      <td>1.0</td>\n",
       "    </tr>\n",
       "  </tbody>\n",
       "</table>\n",
       "</div>"
      ],
      "text/plain": [
       "Reached.on.Time_Y.N       late    ontime  Total\n",
       "Customer_calls_class                           \n",
       "frequently calls      0.560357  0.439643    1.0\n",
       "occasionally calls    0.597695  0.402305    1.0\n",
       "seldom calls          0.629572  0.370428    1.0"
      ]
     },
     "execution_count": 17,
     "metadata": {},
     "output_type": "execute_result"
    }
   ],
   "source": [
    "#Proporsi\n",
    "ct_calls=pd.crosstab(df['Customer_calls_class'],df['Reached.on.Time_Y.N'],normalize='index').sort_index()\n",
    "ct_calls['Total']=ct_calls.sum(axis=1)\n",
    "ct_calls"
   ]
  },
  {
   "cell_type": "code",
   "execution_count": 18,
   "metadata": {},
   "outputs": [
    {
     "data": {
      "image/png": "[encoded data removed]",
      "text/plain": [
       "<Figure size 1200x400 with 1 Axes>"
      ]
     },
     "metadata": {},
     "output_type": "display_data"
    }
   ],
   "source": [
    "#Bar chart\n",
    "plt.figure(figsize=(12,4))\n",
    "plt.bar(np.arange(df['Customer_calls_class'].nunique()),ct_calls['Total'])\n",
    "plt.bar(np.arange(df['Customer_calls_class'].nunique()),ct_calls['late'])\n",
    "plt.xlabel('Reached.on.Time_Y.N')\n",
    "plt.ylabel(f'Proportion Customer_calls_class')\n",
    "plt.legend(['ontime','late'])\n",
    "plt.xticks(np.arange(len(ct_calls.index.tolist())),ct_calls.index.tolist())\n",
    "plt.title('Customer_calls_class')\n",
    "plt.show()"
   ]
  },
  {
   "cell_type": "markdown",
   "metadata": {},
   "source": [
    "* Dari bagan diatas, dapat dilihat bahwasanya proporsi antar panggilan ke customer care yang terdiri dari frequently calls, occasionally calls dan seldom calls memiliki selisih yang relatif kecil dengan seldom calls memiliki probabilitas 63% terjadinya keterlambatan pada setiap pengiriman.\n",
    "\n",
    "* Dapat diihat juga bahwasanya produk yang pada saat pengiriman mendapatkan jumlah panggilan ke customer care lebih banyak memiliki nilai keterlambatan yang lebih kecil dibanding produk yang jarang atau hanya sesekali di cek oleh customer melalui customer care.\n",
    "\n",
    "* Untuk masing-masing product importance cenderung terlambat dalam pengiriman. "
   ]
  },
  {
   "cell_type": "code",
   "execution_count": 19,
   "metadata": {},
   "outputs": [
    {
     "name": "stdout",
     "output_type": "stream",
     "text": [
      "chi2 statistic:     37.012\n",
      "pvalue:            9.1835e-09\n",
      "degrees of freedom: 2\n",
      "Pvalue= 9.1835e-09. Pvalue <= 0.05. Menolak Ho.\n"
     ]
    }
   ],
   "source": [
    "#Uji dependensi\n",
    "ct_table_ind=pd.crosstab(df[\"Customer_calls_class\"],df[\"Reached.on.Time_Y.N\"])\n",
    "\n",
    "chi2_stat, p, dof, expected = scipy.stats.chi2_contingency(ct_table_ind)\n",
    " \n",
    "print(f\"chi2 statistic:     {chi2_stat:.5g}\")\n",
    "print(f\"pvalue:            {p:.5g}\")\n",
    "print(f\"degrees of freedom: {dof}\")\n",
    "\n",
    "if p> 0.05: \n",
    "    print(f'Pvalue= {p:.5g}. Pvalue > 0.05. Menerima Ho.')\n",
    "else:\n",
    "    print(f'Pvalue= {p:.5g}. Pvalue <= 0.05. Menolak Ho.')"
   ]
  },
  {
   "cell_type": "markdown",
   "metadata": {},
   "source": [
    "Dari hasil uji statistik kita mempunyai cukup bukti untuk mengatakan bahwa Customer_calls_class dan reached time terkait/dependant (Proporsinya berbeda signifikan)"
   ]
  },
  {
   "cell_type": "markdown",
   "metadata": {},
   "source": [
    "* ### Analisis ketepatan waktu pengiriman berdasarkan banyaknya pembelian yang telah dilakukan \n",
    "Akan dilakukan dianalisa pengaruh dari banyaknya pembelian yang telah dilakukan customer kepada ketepatan waktu pengiriman.\n",
    "\n",
    "Data Prior_`purchase_category` mempunyai 2 kategori yang terdiri atas __0-3 purchasee__ dan __> 3 purchase__. Untuk mengetahui besaran proporsi antar kategori, digunakan tabel proporsi kepuasan. "
   ]
  },
  {
   "cell_type": "code",
   "execution_count": 20,
   "metadata": {},
   "outputs": [
    {
     "data": {
      "text/html": [
       "<div>\n",
       "<style scoped>\n",
       "    .dataframe tbody tr th:only-of-type {\n",
       "        vertical-align: middle;\n",
       "    }\n",
       "\n",
       "    .dataframe tbody tr th {\n",
       "        vertical-align: top;\n",
       "    }\n",
       "\n",
       "    .dataframe thead th {\n",
       "        text-align: right;\n",
       "    }\n",
       "</style>\n",
       "<table border=\"1\" class=\"dataframe\">\n",
       "  <thead>\n",
       "    <tr style=\"text-align: right;\">\n",
       "      <th></th>\n",
       "      <th>Prior_purchase_category</th>\n",
       "      <th>Count</th>\n",
       "    </tr>\n",
       "  </thead>\n",
       "  <tbody>\n",
       "    <tr>\n",
       "      <th>0</th>\n",
       "      <td>0-3 purchase</td>\n",
       "      <td>6554</td>\n",
       "    </tr>\n",
       "    <tr>\n",
       "      <th>1</th>\n",
       "      <td>&gt; 3 purchase</td>\n",
       "      <td>4445</td>\n",
       "    </tr>\n",
       "  </tbody>\n",
       "</table>\n",
       "</div>"
      ],
      "text/plain": [
       "  Prior_purchase_category  Count\n",
       "0            0-3 purchase   6554\n",
       "1            > 3 purchase   4445"
      ]
     },
     "execution_count": 20,
     "metadata": {},
     "output_type": "execute_result"
    }
   ],
   "source": [
    "#Frekuensi\n",
    "prior_count = df['Prior_purchase_category'].value_counts().reset_index()\n",
    "prior_count.columns = ['Prior_purchase_category', 'Count']\n",
    "prior_count"
   ]
  },
  {
   "cell_type": "code",
   "execution_count": 21,
   "metadata": {},
   "outputs": [
    {
     "data": {
      "text/html": [
       "<div>\n",
       "<style scoped>\n",
       "    .dataframe tbody tr th:only-of-type {\n",
       "        vertical-align: middle;\n",
       "    }\n",
       "\n",
       "    .dataframe tbody tr th {\n",
       "        vertical-align: top;\n",
       "    }\n",
       "\n",
       "    .dataframe thead th {\n",
       "        text-align: right;\n",
       "    }\n",
       "</style>\n",
       "<table border=\"1\" class=\"dataframe\">\n",
       "  <thead>\n",
       "    <tr style=\"text-align: right;\">\n",
       "      <th>Reached.on.Time_Y.N</th>\n",
       "      <th>late</th>\n",
       "      <th>ontime</th>\n",
       "      <th>Total</th>\n",
       "    </tr>\n",
       "    <tr>\n",
       "      <th>Prior_purchase_category</th>\n",
       "      <th></th>\n",
       "      <th></th>\n",
       "      <th></th>\n",
       "    </tr>\n",
       "  </thead>\n",
       "  <tbody>\n",
       "    <tr>\n",
       "      <th>0-3 purchase</th>\n",
       "      <td>0.634574</td>\n",
       "      <td>0.365426</td>\n",
       "      <td>1.0</td>\n",
       "    </tr>\n",
       "    <tr>\n",
       "      <th>&gt; 3 purchase</th>\n",
       "      <td>0.540832</td>\n",
       "      <td>0.459168</td>\n",
       "      <td>1.0</td>\n",
       "    </tr>\n",
       "  </tbody>\n",
       "</table>\n",
       "</div>"
      ],
      "text/plain": [
       "Reached.on.Time_Y.N          late    ontime  Total\n",
       "Prior_purchase_category                           \n",
       "0-3 purchase             0.634574  0.365426    1.0\n",
       "> 3 purchase             0.540832  0.459168    1.0"
      ]
     },
     "execution_count": 21,
     "metadata": {},
     "output_type": "execute_result"
    }
   ],
   "source": [
    "#Proporsi\n",
    "ct_prior=pd.crosstab(df['Prior_purchase_category'],df['Reached.on.Time_Y.N'],normalize='index').sort_index()\n",
    "ct_prior['Total']=ct_prior.sum(axis=1)\n",
    "ct_prior"
   ]
  },
  {
   "cell_type": "code",
   "execution_count": 22,
   "metadata": {},
   "outputs": [
    {
     "data": {
      "image/png": "[encoded data removed]",
      "text/plain": [
       "<Figure size 1200x400 with 1 Axes>"
      ]
     },
     "metadata": {},
     "output_type": "display_data"
    }
   ],
   "source": [
    "#Bar chart \n",
    "plt.figure(figsize=(12,4))\n",
    "plt.bar(np.arange(df['Prior_purchase_category'].nunique()),ct_prior['Total'])\n",
    "plt.bar(np.arange(df['Prior_purchase_category'].nunique()),ct_prior['late'])\n",
    "plt.xlabel('Reached.on.Time_Y.N')\n",
    "plt.ylabel(f'Proportion Prior_purchase_category')\n",
    "plt.legend(['ontime','late'])\n",
    "plt.xticks(np.arange(len(ct_prior.index.tolist())),ct_prior.index.tolist())\n",
    "plt.title('Prior_purchase_category')\n",
    "plt.show()"
   ]
  },
  {
   "cell_type": "markdown",
   "metadata": {},
   "source": [
    "* Dari bagan diatas, dapat dilihat bahwasanya proporsi antar banyaknya pembelian yang telah dilakukan yang terdiri dari0-3 purchase dan > 3 purchase dimana 0-3 purchase memiliki probabilitas 63% terjadinya keterlambatan pada setiap pengiriman.\n",
    "\n",
    "* Dapat diihat juga bahwasanya customer yang telah membeli > 3 purchase memiliki nilai keterlambatan yang lebih kecil dibanding customer yang jarang atau hanya sesekali melakukan pembelian.\n",
    "\n",
    "* Untuk masing-masing kategori banyaknya pembelian yang telah dilakukan cenderung menghasilkan keterlambatan dalam pengiriman. "
   ]
  },
  {
   "cell_type": "code",
   "execution_count": 23,
   "metadata": {},
   "outputs": [
    {
     "name": "stdout",
     "output_type": "stream",
     "text": [
      "chi2 statistic:     96.328\n",
      "pvalue:            9.7326e-23\n",
      "degrees of freedom: 1\n",
      "Pvalue= 9.7326e-23. Pvalue <= 0.05. Menolak Ho.\n"
     ]
    }
   ],
   "source": [
    "#Uji dependensi\n",
    "ct_table_ind=pd.crosstab(df[\"Prior_purchase_category\"],df[\"Reached.on.Time_Y.N\"])\n",
    "\n",
    "chi2_stat, p, dof, expected = scipy.stats.chi2_contingency(ct_table_ind)\n",
    " \n",
    "print(f\"chi2 statistic:     {chi2_stat:.5g}\")\n",
    "print(f\"pvalue:            {p:.5g}\")\n",
    "print(f\"degrees of freedom: {dof}\")\n",
    "\n",
    "if p> 0.05: \n",
    "    print(f'Pvalue= {p:.5g}. Pvalue > 0.05. Menerima Ho.')\n",
    "else:\n",
    "    print(f'Pvalue= {p:.5g}. Pvalue <= 0.05. Menolak Ho.')"
   ]
  },
  {
   "cell_type": "markdown",
   "metadata": {},
   "source": [
    "Setelah melakukan uji statistik kita mempunyai cukup bukti untuk mengatakan bahwa Prior_purchase_category dan reached time terkait/dependant (Proporsinya berbeda signifikan)"
   ]
  },
  {
   "cell_type": "markdown",
   "metadata": {},
   "source": [
    "Pada `Prior_purchase_category`, dari grafik, customer yang sebelumnya melakukan lebih sedikit transaksi lebih banyak mendapatkan pengiriman produk terlambat, kemungkinan besar ini terjadi karena pihak ekspedisi(kurir) belum familiar dengan alamat customer, untuk itu mari kita uji aapakah proporsi keterlambatan memang secara signifikan lebih tinggi pada customer dengan jumlah transaksi 0-3 kali dibanding ustomer dengan jumlah transaksi lebih dari 3 kali."
   ]
  },
  {
   "cell_type": "code",
   "execution_count": 24,
   "metadata": {},
   "outputs": [
    {
     "name": "stdout",
     "output_type": "stream",
     "text": [
      "Pvalue= 3.998e-23. Pvalue <= 0.05. Menolak Ho.\n"
     ]
    }
   ],
   "source": [
    "from statsmodels.stats.proportion import proportions_ztest\n",
    "ct_table=pd.crosstab(df['Prior_purchase_category'],df['Reached.on.Time_Y.N'])\n",
    "\n",
    "stats, p=proportions_ztest(ct_table['late'],ct_table.sum(axis=1),alternative='larger')\n",
    "if p> 0.05: \n",
    "    print(f'Pvalue= {p:.5g}. Pvalue > 0.05. Menerima Ho.')\n",
    "else:\n",
    "    print(f'Pvalue= {p:.5g}. Pvalue <= 0.05. Menolak Ho.')"
   ]
  },
  {
   "cell_type": "markdown",
   "metadata": {},
   "source": [
    "Dari hasil uji statistik, kita bisa melihat bahwa memang customer yang sebelumnya melakukan lebih sedikit transaksi (0-3 kali) lebih banyak mendapatkan pengiriman produk terlambat dibandingkan customer yang sebelumnya telah melakukan transaksi lebih dari 3 kali."
   ]
  },
  {
   "cell_type": "code",
   "execution_count": 25,
   "metadata": {},
   "outputs": [
    {
     "data": {
      "text/html": [
       "<div>\n",
       "<style scoped>\n",
       "    .dataframe tbody tr th:only-of-type {\n",
       "        vertical-align: middle;\n",
       "    }\n",
       "\n",
       "    .dataframe tbody tr th {\n",
       "        vertical-align: top;\n",
       "    }\n",
       "\n",
       "    .dataframe thead th {\n",
       "        text-align: right;\n",
       "    }\n",
       "</style>\n",
       "<table border=\"1\" class=\"dataframe\">\n",
       "  <thead>\n",
       "    <tr style=\"text-align: right;\">\n",
       "      <th>Reached.on.Time_Y.N</th>\n",
       "      <th>late</th>\n",
       "      <th>ontime</th>\n",
       "    </tr>\n",
       "    <tr>\n",
       "      <th>Prior_purchase_category</th>\n",
       "      <th></th>\n",
       "      <th></th>\n",
       "    </tr>\n",
       "  </thead>\n",
       "  <tbody>\n",
       "    <tr>\n",
       "      <th>0-3 purchase</th>\n",
       "      <td>4159</td>\n",
       "      <td>2395</td>\n",
       "    </tr>\n",
       "    <tr>\n",
       "      <th>&gt; 3 purchase</th>\n",
       "      <td>2404</td>\n",
       "      <td>2041</td>\n",
       "    </tr>\n",
       "  </tbody>\n",
       "</table>\n",
       "</div>"
      ],
      "text/plain": [
       "Reached.on.Time_Y.N      late  ontime\n",
       "Prior_purchase_category              \n",
       "0-3 purchase             4159    2395\n",
       "> 3 purchase             2404    2041"
      ]
     },
     "execution_count": 25,
     "metadata": {},
     "output_type": "execute_result"
    }
   ],
   "source": [
    "ct_table"
   ]
  },
  {
   "cell_type": "markdown",
   "metadata": {},
   "source": [
    "* ### Analisis kombinasi antar faktor yang terkait dengan customer"
   ]
  },
  {
   "cell_type": "markdown",
   "metadata": {},
   "source": [
    "Tahap ini akan melihat seberapa besar proprsi terjadinya keterlambatan maupun tepat waktu dalam pengiriman produk sampai ke tangan customer dilihat dari kombinasi faktor-faktor yang berkaitan dengan customer, dalam hal ini adalah __`Prior_purchase_category`__ dan __`Customer_calls_class`__"
   ]
  },
  {
   "cell_type": "code",
   "execution_count": 26,
   "metadata": {},
   "outputs": [
    {
     "data": {
      "application/vnd.plotly.v1+json": {
       "config": {
        "plotlyServerURL": "https://plot.ly"
       },
       "data": [
        {
         "branchvalues": "total",
         "domain": {
          "x": [
           0,
           1
          ],
          "y": [
           0,
           1
          ]
         },
         "hovertemplate": "labels=%{label}<br>count=%{value}<br>parent=%{parent}<br>id=%{id}<extra></extra>",
         "ids": [
          "On time or Late?/late/0-3 purchase/frequently calls",
          "On time or Late?/ontime/0-3 purchase/frequently calls",
          "On time or Late?/late/> 3 purchase/frequently calls",
          "On time or Late?/ontime/> 3 purchase/frequently calls",
          "On time or Late?/late/0-3 purchase/occasionally calls",
          "On time or Late?/ontime/0-3 purchase/occasionally calls",
          "On time or Late?/late/> 3 purchase/occasionally calls",
          "On time or Late?/ontime/> 3 purchase/occasionally calls",
          "On time or Late?/late/0-3 purchase/seldom calls",
          "On time or Late?/ontime/0-3 purchase/seldom calls",
          "On time or Late?/late/> 3 purchase/seldom calls",
          "On time or Late?/ontime/> 3 purchase/seldom calls",
          "On time or Late?/late/0-3 purchase",
          "On time or Late?/ontime/0-3 purchase",
          "On time or Late?/late/> 3 purchase",
          "On time or Late?/ontime/> 3 purchase",
          "On time or Late?/late",
          "On time or Late?/ontime",
          "On time or Late?"
         ],
         "labels": [
          "frequently calls",
          "frequently calls",
          "frequently calls",
          "frequently calls",
          "occasionally calls",
          "occasionally calls",
          "occasionally calls",
          "occasionally calls",
          "seldom calls",
          "seldom calls",
          "seldom calls",
          "seldom calls",
          "0-3 purchase",
          "0-3 purchase",
          "> 3 purchase",
          "> 3 purchase",
          "late",
          "ontime",
          "On time or Late?"
         ],
         "name": "",
         "parents": [
          "On time or Late?/late/0-3 purchase",
          "On time or Late?/ontime/0-3 purchase",
          "On time or Late?/late/> 3 purchase",
          "On time or Late?/ontime/> 3 purchase",
          "On time or Late?/late/0-3 purchase",
          "On time or Late?/ontime/0-3 purchase",
          "On time or Late?/late/> 3 purchase",
          "On time or Late?/ontime/> 3 purchase",
          "On time or Late?/late/0-3 purchase",
          "On time or Late?/ontime/0-3 purchase",
          "On time or Late?/late/> 3 purchase",
          "On time or Late?/ontime/> 3 purchase",
          "On time or Late?/late",
          "On time or Late?/ontime",
          "On time or Late?/late",
          "On time or Late?/ontime",
          "On time or Late?",
          "On time or Late?",
          ""
         ],
         "textinfo": "label+percent parent",
         "type": "sunburst",
         "values": [
          845,
          469,
          1165,
          1108,
          1467,
          908,
          659,
          523,
          1847,
          1018,
          580,
          410,
          4159,
          2395,
          2404,
          2041,
          6563,
          4436,
          10999
         ]
        }
       ],
       "layout": {
        "height": 600,
        "legend": {
         "tracegroupgap": 0
        },
        "template": {
         "data": {
          "bar": [
           {
            "error_x": {
             "color": "#2a3f5f"
            },
            "error_y": {
             "color": "#2a3f5f"
            },
            "marker": {
             "line": {
              "color": "#E5ECF6",
              "width": 0.5
             },
             "pattern": {
              "fillmode": "overlay",
              "size": 10,
              "solidity": 0.2
             }
            },
            "type": "bar"
           }
          ],
          "barpolar": [
           {
            "marker": {
             "line": {
              "color": "#E5ECF6",
              "width": 0.5
             },
             "pattern": {
              "fillmode": "overlay",
              "size": 10,
              "solidity": 0.2
             }
            },
            "type": "barpolar"
           }
          ],
          "carpet": [
           {
            "aaxis": {
             "endlinecolor": "#2a3f5f",
             "gridcolor": "white",
             "linecolor": "white",
             "minorgridcolor": "white",
             "startlinecolor": "#2a3f5f"
            },
            "baxis": {
             "endlinecolor": "#2a3f5f",
             "gridcolor": "white",
             "linecolor": "white",
             "minorgridcolor": "white",
             "startlinecolor": "#2a3f5f"
            },
            "type": "carpet"
           }
          ],
          "choropleth": [
           {
            "colorbar": {
             "outlinewidth": 0,
             "ticks": ""
            },
            "type": "choropleth"
           }
          ],
          "contour": [
           {
            "colorbar": {
             "outlinewidth": 0,
             "ticks": ""
            },
            "colorscale": [
             [
              0,
              "#0d0887"
             ],
             [
              0.1111111111111111,
              "#46039f"
             ],
             [
              0.2222222222222222,
              "#7201a8"
             ],
             [
              0.3333333333333333,
              "#9c179e"
             ],
             [
              0.4444444444444444,
              "#bd3786"
             ],
             [
              0.5555555555555556,
              "#d8576b"
             ],
             [
              0.6666666666666666,
              "#ed7953"
             ],
             [
              0.7777777777777778,
              "#fb9f3a"
             ],
             [
              0.8888888888888888,
              "#fdca26"
             ],
             [
              1,
              "#f0f921"
             ]
            ],
            "type": "contour"
           }
          ],
          "contourcarpet": [
           {
            "colorbar": {
             "outlinewidth": 0,
             "ticks": ""
            },
            "type": "contourcarpet"
           }
          ],
          "heatmap": [
           {
            "colorbar": {
             "outlinewidth": 0,
             "ticks": ""
            },
            "colorscale": [
             [
              0,
              "#0d0887"
             ],
             [
              0.1111111111111111,
              "#46039f"
             ],
             [
              0.2222222222222222,
              "#7201a8"
             ],
             [
              0.3333333333333333,
              "#9c179e"
             ],
             [
              0.4444444444444444,
              "#bd3786"
             ],
             [
              0.5555555555555556,
              "#d8576b"
             ],
             [
              0.6666666666666666,
              "#ed7953"
             ],
             [
              0.7777777777777778,
              "#fb9f3a"
             ],
             [
              0.8888888888888888,
              "#fdca26"
             ],
             [
              1,
              "#f0f921"
             ]
            ],
            "type": "heatmap"
           }
          ],
          "heatmapgl": [
           {
            "colorbar": {
             "outlinewidth": 0,
             "ticks": ""
            },
            "colorscale": [
             [
              0,
              "#0d0887"
             ],
             [
              0.1111111111111111,
              "#46039f"
             ],
             [
              0.2222222222222222,
              "#7201a8"
             ],
             [
              0.3333333333333333,
              "#9c179e"
             ],
             [
              0.4444444444444444,
              "#bd3786"
             ],
             [
              0.5555555555555556,
              "#d8576b"
             ],
             [
              0.6666666666666666,
              "#ed7953"
             ],
             [
              0.7777777777777778,
              "#fb9f3a"
             ],
             [
              0.8888888888888888,
              "#fdca26"
             ],
             [
              1,
              "#f0f921"
             ]
            ],
            "type": "heatmapgl"
           }
          ],
          "histogram": [
           {
            "marker": {
             "pattern": {
              "fillmode": "overlay",
              "size": 10,
              "solidity": 0.2
             }
            },
            "type": "histogram"
           }
          ],
          "histogram2d": [
           {
            "colorbar": {
             "outlinewidth": 0,
             "ticks": ""
            },
            "colorscale": [
             [
              0,
              "#0d0887"
             ],
             [
              0.1111111111111111,
              "#46039f"
             ],
             [
              0.2222222222222222,
              "#7201a8"
             ],
             [
              0.3333333333333333,
              "#9c179e"
             ],
             [
              0.4444444444444444,
              "#bd3786"
             ],
             [
              0.5555555555555556,
              "#d8576b"
             ],
             [
              0.6666666666666666,
              "#ed7953"
             ],
             [
              0.7777777777777778,
              "#fb9f3a"
             ],
             [
              0.8888888888888888,
              "#fdca26"
             ],
             [
              1,
              "#f0f921"
             ]
            ],
            "type": "histogram2d"
           }
          ],
          "histogram2dcontour": [
           {
            "colorbar": {
             "outlinewidth": 0,
             "ticks": ""
            },
            "colorscale": [
             [
              0,
              "#0d0887"
             ],
             [
              0.1111111111111111,
              "#46039f"
             ],
             [
              0.2222222222222222,
              "#7201a8"
             ],
             [
              0.3333333333333333,
              "#9c179e"
             ],
             [
              0.4444444444444444,
              "#bd3786"
             ],
             [
              0.5555555555555556,
              "#d8576b"
             ],
             [
              0.6666666666666666,
              "#ed7953"
             ],
             [
              0.7777777777777778,
              "#fb9f3a"
             ],
             [
              0.8888888888888888,
              "#fdca26"
             ],
             [
              1,
              "#f0f921"
             ]
            ],
            "type": "histogram2dcontour"
           }
          ],
          "mesh3d": [
           {
            "colorbar": {
             "outlinewidth": 0,
             "ticks": ""
            },
            "type": "mesh3d"
           }
          ],
          "parcoords": [
           {
            "line": {
             "colorbar": {
              "outlinewidth": 0,
              "ticks": ""
             }
            },
            "type": "parcoords"
           }
          ],
          "pie": [
           {
            "automargin": true,
            "type": "pie"
           }
          ],
          "scatter": [
           {
            "fillpattern": {
             "fillmode": "overlay",
             "size": 10,
             "solidity": 0.2
            },
            "type": "scatter"
           }
          ],
          "scatter3d": [
           {
            "line": {
             "colorbar": {
              "outlinewidth": 0,
              "ticks": ""
             }
            },
            "marker": {
             "colorbar": {
              "outlinewidth": 0,
              "ticks": ""
             }
            },
            "type": "scatter3d"
           }
          ],
          "scattercarpet": [
           {
            "marker": {
             "colorbar": {
              "outlinewidth": 0,
              "ticks": ""
             }
            },
            "type": "scattercarpet"
           }
          ],
          "scattergeo": [
           {
            "marker": {
             "colorbar": {
              "outlinewidth": 0,
              "ticks": ""
             }
            },
            "type": "scattergeo"
           }
          ],
          "scattergl": [
           {
            "marker": {
             "colorbar": {
              "outlinewidth": 0,
              "ticks": ""
             }
            },
            "type": "scattergl"
           }
          ],
          "scattermapbox": [
           {
            "marker": {
             "colorbar": {
              "outlinewidth": 0,
              "ticks": ""
             }
            },
            "type": "scattermapbox"
           }
          ],
          "scatterpolar": [
           {
            "marker": {
             "colorbar": {
              "outlinewidth": 0,
              "ticks": ""
             }
            },
            "type": "scatterpolar"
           }
          ],
          "scatterpolargl": [
           {
            "marker": {
             "colorbar": {
              "outlinewidth": 0,
              "ticks": ""
             }
            },
            "type": "scatterpolargl"
           }
          ],
          "scatterternary": [
           {
            "marker": {
             "colorbar": {
              "outlinewidth": 0,
              "ticks": ""
             }
            },
            "type": "scatterternary"
           }
          ],
          "surface": [
           {
            "colorbar": {
             "outlinewidth": 0,
             "ticks": ""
            },
            "colorscale": [
             [
              0,
              "#0d0887"
             ],
             [
              0.1111111111111111,
              "#46039f"
             ],
             [
              0.2222222222222222,
              "#7201a8"
             ],
             [
              0.3333333333333333,
              "#9c179e"
             ],
             [
              0.4444444444444444,
              "#bd3786"
             ],
             [
              0.5555555555555556,
              "#d8576b"
             ],
             [
              0.6666666666666666,
              "#ed7953"
             ],
             [
              0.7777777777777778,
              "#fb9f3a"
             ],
             [
              0.8888888888888888,
              "#fdca26"
             ],
             [
              1,
              "#f0f921"
             ]
            ],
            "type": "surface"
           }
          ],
          "table": [
           {
            "cells": {
             "fill": {
              "color": "#EBF0F8"
             },
             "line": {
              "color": "white"
             }
            },
            "header": {
             "fill": {
              "color": "#C8D4E3"
             },
             "line": {
              "color": "white"
             }
            },
            "type": "table"
           }
          ]
         },
         "layout": {
          "annotationdefaults": {
           "arrowcolor": "#2a3f5f",
           "arrowhead": 0,
           "arrowwidth": 1
          },
          "autotypenumbers": "strict",
          "coloraxis": {
           "colorbar": {
            "outlinewidth": 0,
            "ticks": ""
           }
          },
          "colorscale": {
           "diverging": [
            [
             0,
             "#8e0152"
            ],
            [
             0.1,
             "#c51b7d"
            ],
            [
             0.2,
             "#de77ae"
            ],
            [
             0.3,
             "#f1b6da"
            ],
            [
             0.4,
             "#fde0ef"
            ],
            [
             0.5,
             "#f7f7f7"
            ],
            [
             0.6,
             "#e6f5d0"
            ],
            [
             0.7,
             "#b8e186"
            ],
            [
             0.8,
             "#7fbc41"
            ],
            [
             0.9,
             "#4d9221"
            ],
            [
             1,
             "#276419"
            ]
           ],
           "sequential": [
            [
             0,
             "#0d0887"
            ],
            [
             0.1111111111111111,
             "#46039f"
            ],
            [
             0.2222222222222222,
             "#7201a8"
            ],
            [
             0.3333333333333333,
             "#9c179e"
            ],
            [
             0.4444444444444444,
             "#bd3786"
            ],
            [
             0.5555555555555556,
             "#d8576b"
            ],
            [
             0.6666666666666666,
             "#ed7953"
            ],
            [
             0.7777777777777778,
             "#fb9f3a"
            ],
            [
             0.8888888888888888,
             "#fdca26"
            ],
            [
             1,
             "#f0f921"
            ]
           ],
           "sequentialminus": [
            [
             0,
             "#0d0887"
            ],
            [
             0.1111111111111111,
             "#46039f"
            ],
            [
             0.2222222222222222,
             "#7201a8"
            ],
            [
             0.3333333333333333,
             "#9c179e"
            ],
            [
             0.4444444444444444,
             "#bd3786"
            ],
            [
             0.5555555555555556,
             "#d8576b"
            ],
            [
             0.6666666666666666,
             "#ed7953"
            ],
            [
             0.7777777777777778,
             "#fb9f3a"
            ],
            [
             0.8888888888888888,
             "#fdca26"
            ],
            [
             1,
             "#f0f921"
            ]
           ]
          },
          "colorway": [
           "#636efa",
           "#EF553B",
           "#00cc96",
           "#ab63fa",
           "#FFA15A",
           "#19d3f3",
           "#FF6692",
           "#B6E880",
           "#FF97FF",
           "#FECB52"
          ],
          "font": {
           "color": "#2a3f5f"
          },
          "geo": {
           "bgcolor": "white",
           "lakecolor": "white",
           "landcolor": "#E5ECF6",
           "showlakes": true,
           "showland": true,
           "subunitcolor": "white"
          },
          "hoverlabel": {
           "align": "left"
          },
          "hovermode": "closest",
          "mapbox": {
           "style": "light"
          },
          "paper_bgcolor": "white",
          "plot_bgcolor": "#E5ECF6",
          "polar": {
           "angularaxis": {
            "gridcolor": "white",
            "linecolor": "white",
            "ticks": ""
           },
           "bgcolor": "#E5ECF6",
           "radialaxis": {
            "gridcolor": "white",
            "linecolor": "white",
            "ticks": ""
           }
          },
          "scene": {
           "xaxis": {
            "backgroundcolor": "#E5ECF6",
            "gridcolor": "white",
            "gridwidth": 2,
            "linecolor": "white",
            "showbackground": true,
            "ticks": "",
            "zerolinecolor": "white"
           },
           "yaxis": {
            "backgroundcolor": "#E5ECF6",
            "gridcolor": "white",
            "gridwidth": 2,
            "linecolor": "white",
            "showbackground": true,
            "ticks": "",
            "zerolinecolor": "white"
           },
           "zaxis": {
            "backgroundcolor": "#E5ECF6",
            "gridcolor": "white",
            "gridwidth": 2,
            "linecolor": "white",
            "showbackground": true,
            "ticks": "",
            "zerolinecolor": "white"
           }
          },
          "shapedefaults": {
           "line": {
            "color": "#2a3f5f"
           }
          },
          "ternary": {
           "aaxis": {
            "gridcolor": "white",
            "linecolor": "white",
            "ticks": ""
           },
           "baxis": {
            "gridcolor": "white",
            "linecolor": "white",
            "ticks": ""
           },
           "bgcolor": "#E5ECF6",
           "caxis": {
            "gridcolor": "white",
            "linecolor": "white",
            "ticks": ""
           }
          },
          "title": {
           "x": 0.05
          },
          "xaxis": {
           "automargin": true,
           "gridcolor": "white",
           "linecolor": "white",
           "ticks": "",
           "title": {
            "standoff": 15
           },
           "zerolinecolor": "white",
           "zerolinewidth": 2
          },
          "yaxis": {
           "automargin": true,
           "gridcolor": "white",
           "linecolor": "white",
           "ticks": "",
           "title": {
            "standoff": 15
           },
           "zerolinecolor": "white",
           "zerolinewidth": 2
          }
         }
        },
        "title": {
         "text": "Proporsi ketepatan waktu pengiriman Berdasarkan Customer"
        },
        "width": 600
       }
      }
     },
     "metadata": {},
     "output_type": "display_data"
    }
   ],
   "source": [
    "fig = px.sunburst(\n",
    "    df,path=['Reach_time','Reached.on.Time_Y.N','Prior_purchase_category','Customer_calls_class'],\n",
    "    title=f'Proporsi ketepatan waktu pengiriman Berdasarkan Customer',\n",
    "    width=600, \n",
    "    height=600,\n",
    ")\n",
    "\n",
    "fig.update_traces(textinfo=\"label+percent parent\")                  \n",
    "fig.show()"
   ]
  },
  {
   "cell_type": "markdown",
   "metadata": {},
   "source": [
    "Dari sunburst chart diatas, kita dapat melihat kombinasi faktor yang menghasilkan persentase tepat waktu dan keterlambatan terbesar, dimana perpaduan antara prior purchase >3 dan customer care calls kategori frequently calls menghasilkan ketepatan waktu pengiriman terbanyak dengan 1108 pengiriman, sedangkan untuk persentase keterlambatan terbanyak dihasilkan oleh prior purchase 0-3 dan dan jumlah panggilan ke customer care jarang dengan 1847 keterlambatan pengiriman."
   ]
  },
  {
   "cell_type": "markdown",
   "metadata": {},
   "source": [
    "# `Kesimpulan`"
   ]
  },
  {
   "cell_type": "markdown",
   "metadata": {},
   "source": [
    "Kesimpulan yang didapatkan dari hasil analisa, diantaranya:\n",
    "\n",
    "__1. Bagaimana performa ketepatan waktu pengiriman berdasarkan data?__\n",
    "\n",
    "* dari 10999 data yang dimiliki, hanya terdapat 4436 data yang menunjukan bahwasanya produk tiba tepat pada waktunya\n",
    "* Lebih banyak terjadi keterlambatan dalam pengiriman produk sampai ke tangan customer, dengan persentase sebesar 59,7%\n",
    "* Berdasarkan tingkat kepentingan barang, pengiriman paling banyak terjadi pada produk yang memiliki tingkat kepentingan rendah (low) \n",
    "* Mayoritas pengirman adalah pengiriman produk dengan berat yang masuk kedalam kategori medium\n",
    "* kebanyakan customer melakukan panggilan ke customer care terkait pengiriman produk sebanyak kurang dari dua kali\n",
    "* kebanyakan customer telah melakukan transaksi leih dari 4 kali\n",
    "\n",
    "__2. Apa faktor yang mempengaruhi keterlambatan pengiriman?__\n",
    "\n",
    "keterlambatan pengiriman barang dipengaruhi oleh beberapa faktor:\n",
    "* __Product importance :__ produk yang memiliki tingkat importansi yang tinggi\n",
    "* __Weight Category :__ produk yang memiliki berat yang termasuk kedalam kategori ringan\n",
    "* __Customer care calls :__ customer yang jarang melakukan panggilan ke customer care\n",
    "* __Prior purchase :__ customer yang kurang dari 3 kali melakukan transaksi \n",
    "\n",
    "secara frekuensi, jumlah keterlambatan terbanyak juga disebabkan oleh kombinasi antara produk dengan tingkat kepentingan rendah dan kategori berat ringan, dan kombinasi antara jumlah transaksi customer yang kurang dari 3 dan dan jumlah panggilan ke customer care jarang\n"
   ]
  },
  {
   "cell_type": "markdown",
   "metadata": {},
   "source": [
    "# `Rekomendasi`"
   ]
  },
  {
   "cell_type": "markdown",
   "metadata": {},
   "source": [
    "Rekomendasi yang dapat diberikan adalah:\n",
    "* untuk mengurangi tingkat keterlambatan, diutamakan melakukan optimalisasi pada faktor faktor yang mempengaruhi ketepatan waktu pengiriman.\n",
    "* lebih memperhatikan pengiriman produk dengan tingkat kepentingan yang tinggi karena terlepas dari banyaknya jumlah pengiriman, kemungkinan terjadinya keterlambatan lebih besar dari tingkat kepentingan lainnya.\n",
    "* Fokus menangani keterlambatan pada produk dengan kategori berat ringan, bisa dengan membuat keranjang atau area khusus untuk masing masing berat, apalagi produk yang termasuk kedalam berat ringan yang kemungkinan mudah tercecer.\n",
    "* karena customer care calls yang tinggi memiliki nilai proporsi keterlambatan yang lebih rendah dibanding customer care calls yang rendah, ini menandakan bahwasanya product baru akan dilakukan proses ketika customer banyak menanyakan proses pegiriman, atau kurangnya kedisipinan karyawan terhadap SOP, maka perlu mengkaji ulang dan menerapkan SOP yang lebih tepat guna.\n",
    "* Lebih banyak terjadi keterlambatan pengiriman pada customer yang lebih sedikit melakukan transaksi daripada yang telah melakukan banyak transaksi, mungkin bisa dilakukan training pada kurir atau optimalisasi terkait dengan wilayah dan zona pengiriman barang. "
   ]
  }
 ],
 "metadata": {
  "kernelspec": {
   "display_name": "Python 3",
   "language": "python",
   "name": "python3"
  },
  "language_info": {
   "codemirror_mode": {
    "name": "ipython",
    "version": 3
   },
   "file_extension": ".py",
   "mimetype": "text/x-python",
   "name": "python",
   "nbconvert_exporter": "python",
   "pygments_lexer": "ipython3",
   "version": "3.9.13"
  },
  "orig_nbformat": 4
 },
 "nbformat": 4,
 "nbformat_minor": 2
}
