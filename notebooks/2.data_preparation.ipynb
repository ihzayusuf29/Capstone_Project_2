{
 "cells": [
  {
   "attachments": {},
   "cell_type": "markdown",
   "metadata": {},
   "source": [
    "### Initial Setup"
   ]
  },
  {
   "cell_type": "code",
   "execution_count": 23,
   "metadata": {},
   "outputs": [],
   "source": [
    "import pandas as pd\n",
    "import numpy as np\n",
    "import matplotlib.pyplot as plt\n",
    "import seaborn as sns\n",
    "import missingno as msn \n",
    "\n",
    "import warnings\n",
    "warnings.filterwarnings('ignore')"
   ]
  },
  {
   "cell_type": "markdown",
   "metadata": {},
   "source": [
    "### Data"
   ]
  },
  {
   "cell_type": "markdown",
   "metadata": {},
   "source": [
    "Untuk menjawab permasalahan, kita akan menganalisa data pengiriman yang sudah dikumpulkan oleh perusahaan. Dataset dapat diakses [di sini](https://drive.google.com/file/d/1LiIEty4z_jZSIV7CvsNjMTpQuuAdDDha/view). "
   ]
  },
  {
   "attachments": {},
   "cell_type": "markdown",
   "metadata": {},
   "source": [
    "### Load Data "
   ]
  },
  {
   "cell_type": "code",
   "execution_count": 24,
   "metadata": {},
   "outputs": [],
   "source": [
    "df = pd.read_csv('C:/Users/Ihza/Downloads/Capstone_Project2/capstone_project2/data/raw/Online Retail Shipping.csv')"
   ]
  },
  {
   "cell_type": "markdown",
   "metadata": {},
   "source": [
    "# `Data Understanding and Cleaning` "
   ]
  },
  {
   "cell_type": "markdown",
   "metadata": {},
   "source": [
    "Sebelum masuk ke dalam analisis, kita perlu mengenal dataset kita lebih jauh dalam tahapan data understanding. Dari proses ini, kita akan tahu anomali-anomali apa saja yang terdapat di dalam dataset kita dan perlu ditangani dalam tahapan data cleaning. Setiap penangan anomali yang dilakukan, akan disertai dengan justifikasi langkah yang diambil, baik secara domain knowledge maupun secara statistik."
   ]
  },
  {
   "attachments": {},
   "cell_type": "markdown",
   "metadata": {},
   "source": [
    "Dataset ini berisi informasi terkait warehouse block, shipment methods, product cost, importance of the product, dan lain-lain. Ada 12 kolom di dalam dataset Online Retail Shipping, yaitu:\n",
    "* __ID :__ ID number of customers.\n",
    "* __Warehouse block :__ The company has a big warehouse that is divided into blocks (A-E).\n",
    "* __Mode of shipment :__ The company ships the products in multiple ways (Ship, Flight, and\n",
    "Road).\n",
    "* __Customer care calls :__ The number of calls made from inquiries for inquiries of the\n",
    "shipment.\n",
    "* __Customer rating :__ Rate from each customer. 1 is the lowest, and 5 is the highest.\n",
    "* __Cost of the product :__ Cost of the product in US Dollars.\n",
    "* __Prior purchases :__ The number of previous purchases.\n",
    "* __Product importance :__ The company has categorized the product in various parameters\n",
    "(low, medium, high).\n",
    "* __Gender :__ Male and female.\n",
    "* __Discount offered :__ Discount offered on that specific product.\n",
    "* __Weight in gms :__ The weight in grams.\n",
    "* __Reached on time :__ 1 indicates that the product has not arrived on time, and 0 indicates the\n",
    "product has arrived on time."
   ]
  },
  {
   "cell_type": "code",
   "execution_count": 25,
   "metadata": {},
   "outputs": [
    {
     "data": {
      "text/html": [
       "<div>\n",
       "<style scoped>\n",
       "    .dataframe tbody tr th:only-of-type {\n",
       "        vertical-align: middle;\n",
       "    }\n",
       "\n",
       "    .dataframe tbody tr th {\n",
       "        vertical-align: top;\n",
       "    }\n",
       "\n",
       "    .dataframe thead th {\n",
       "        text-align: right;\n",
       "    }\n",
       "</style>\n",
       "<table border=\"1\" class=\"dataframe\">\n",
       "  <thead>\n",
       "    <tr style=\"text-align: right;\">\n",
       "      <th></th>\n",
       "      <th>ID</th>\n",
       "      <th>Warehouse_block</th>\n",
       "      <th>Mode_of_Shipment</th>\n",
       "      <th>Customer_care_calls</th>\n",
       "      <th>Customer_rating</th>\n",
       "      <th>Cost_of_the_Product</th>\n",
       "      <th>Prior_purchases</th>\n",
       "      <th>Product_importance</th>\n",
       "      <th>Gender</th>\n",
       "      <th>Discount_offered</th>\n",
       "      <th>Weight_in_gms</th>\n",
       "      <th>Reached.on.Time_Y.N</th>\n",
       "    </tr>\n",
       "  </thead>\n",
       "  <tbody>\n",
       "    <tr>\n",
       "      <th>0</th>\n",
       "      <td>1</td>\n",
       "      <td>D</td>\n",
       "      <td>Flight</td>\n",
       "      <td>4</td>\n",
       "      <td>2</td>\n",
       "      <td>177</td>\n",
       "      <td>3</td>\n",
       "      <td>low</td>\n",
       "      <td>F</td>\n",
       "      <td>44</td>\n",
       "      <td>1233</td>\n",
       "      <td>1</td>\n",
       "    </tr>\n",
       "    <tr>\n",
       "      <th>1</th>\n",
       "      <td>2</td>\n",
       "      <td>F</td>\n",
       "      <td>Flight</td>\n",
       "      <td>4</td>\n",
       "      <td>5</td>\n",
       "      <td>216</td>\n",
       "      <td>2</td>\n",
       "      <td>low</td>\n",
       "      <td>M</td>\n",
       "      <td>59</td>\n",
       "      <td>3088</td>\n",
       "      <td>1</td>\n",
       "    </tr>\n",
       "    <tr>\n",
       "      <th>2</th>\n",
       "      <td>3</td>\n",
       "      <td>A</td>\n",
       "      <td>Flight</td>\n",
       "      <td>2</td>\n",
       "      <td>2</td>\n",
       "      <td>183</td>\n",
       "      <td>4</td>\n",
       "      <td>low</td>\n",
       "      <td>M</td>\n",
       "      <td>48</td>\n",
       "      <td>3374</td>\n",
       "      <td>1</td>\n",
       "    </tr>\n",
       "    <tr>\n",
       "      <th>3</th>\n",
       "      <td>4</td>\n",
       "      <td>B</td>\n",
       "      <td>Flight</td>\n",
       "      <td>3</td>\n",
       "      <td>3</td>\n",
       "      <td>176</td>\n",
       "      <td>4</td>\n",
       "      <td>medium</td>\n",
       "      <td>M</td>\n",
       "      <td>10</td>\n",
       "      <td>1177</td>\n",
       "      <td>1</td>\n",
       "    </tr>\n",
       "    <tr>\n",
       "      <th>4</th>\n",
       "      <td>5</td>\n",
       "      <td>C</td>\n",
       "      <td>Flight</td>\n",
       "      <td>2</td>\n",
       "      <td>2</td>\n",
       "      <td>184</td>\n",
       "      <td>3</td>\n",
       "      <td>medium</td>\n",
       "      <td>F</td>\n",
       "      <td>46</td>\n",
       "      <td>2484</td>\n",
       "      <td>1</td>\n",
       "    </tr>\n",
       "  </tbody>\n",
       "</table>\n",
       "</div>"
      ],
      "text/plain": [
       "   ID Warehouse_block Mode_of_Shipment  Customer_care_calls  Customer_rating   \n",
       "0  1   D               Flight           4                    2                \\\n",
       "1  2   F               Flight           4                    5                 \n",
       "2  3   A               Flight           2                    2                 \n",
       "3  4   B               Flight           3                    3                 \n",
       "4  5   C               Flight           2                    2                 \n",
       "\n",
       "   Cost_of_the_Product  Prior_purchases Product_importance Gender   \n",
       "0  177                  3                low                F      \\\n",
       "1  216                  2                low                M       \n",
       "2  183                  4                low                M       \n",
       "3  176                  4                medium             M       \n",
       "4  184                  3                medium             F       \n",
       "\n",
       "   Discount_offered  Weight_in_gms  Reached.on.Time_Y.N  \n",
       "0  44                1233           1                    \n",
       "1  59                3088           1                    \n",
       "2  48                3374           1                    \n",
       "3  10                1177           1                    \n",
       "4  46                2484           1                    "
      ]
     },
     "metadata": {},
     "output_type": "display_data"
    },
    {
     "data": {
      "text/html": [
       "<div>\n",
       "<style scoped>\n",
       "    .dataframe tbody tr th:only-of-type {\n",
       "        vertical-align: middle;\n",
       "    }\n",
       "\n",
       "    .dataframe tbody tr th {\n",
       "        vertical-align: top;\n",
       "    }\n",
       "\n",
       "    .dataframe thead th {\n",
       "        text-align: right;\n",
       "    }\n",
       "</style>\n",
       "<table border=\"1\" class=\"dataframe\">\n",
       "  <thead>\n",
       "    <tr style=\"text-align: right;\">\n",
       "      <th></th>\n",
       "      <th>ID</th>\n",
       "      <th>Warehouse_block</th>\n",
       "      <th>Mode_of_Shipment</th>\n",
       "      <th>Customer_care_calls</th>\n",
       "      <th>Customer_rating</th>\n",
       "      <th>Cost_of_the_Product</th>\n",
       "      <th>Prior_purchases</th>\n",
       "      <th>Product_importance</th>\n",
       "      <th>Gender</th>\n",
       "      <th>Discount_offered</th>\n",
       "      <th>Weight_in_gms</th>\n",
       "      <th>Reached.on.Time_Y.N</th>\n",
       "    </tr>\n",
       "  </thead>\n",
       "  <tbody>\n",
       "    <tr>\n",
       "      <th>10994</th>\n",
       "      <td>10995</td>\n",
       "      <td>A</td>\n",
       "      <td>Ship</td>\n",
       "      <td>4</td>\n",
       "      <td>1</td>\n",
       "      <td>252</td>\n",
       "      <td>5</td>\n",
       "      <td>medium</td>\n",
       "      <td>F</td>\n",
       "      <td>1</td>\n",
       "      <td>1538</td>\n",
       "      <td>1</td>\n",
       "    </tr>\n",
       "    <tr>\n",
       "      <th>10995</th>\n",
       "      <td>10996</td>\n",
       "      <td>B</td>\n",
       "      <td>Ship</td>\n",
       "      <td>4</td>\n",
       "      <td>1</td>\n",
       "      <td>232</td>\n",
       "      <td>5</td>\n",
       "      <td>medium</td>\n",
       "      <td>F</td>\n",
       "      <td>6</td>\n",
       "      <td>1247</td>\n",
       "      <td>0</td>\n",
       "    </tr>\n",
       "    <tr>\n",
       "      <th>10996</th>\n",
       "      <td>10997</td>\n",
       "      <td>C</td>\n",
       "      <td>Ship</td>\n",
       "      <td>5</td>\n",
       "      <td>4</td>\n",
       "      <td>242</td>\n",
       "      <td>5</td>\n",
       "      <td>low</td>\n",
       "      <td>F</td>\n",
       "      <td>4</td>\n",
       "      <td>1155</td>\n",
       "      <td>0</td>\n",
       "    </tr>\n",
       "    <tr>\n",
       "      <th>10997</th>\n",
       "      <td>10998</td>\n",
       "      <td>F</td>\n",
       "      <td>Ship</td>\n",
       "      <td>5</td>\n",
       "      <td>2</td>\n",
       "      <td>223</td>\n",
       "      <td>6</td>\n",
       "      <td>medium</td>\n",
       "      <td>M</td>\n",
       "      <td>2</td>\n",
       "      <td>1210</td>\n",
       "      <td>0</td>\n",
       "    </tr>\n",
       "    <tr>\n",
       "      <th>10998</th>\n",
       "      <td>10999</td>\n",
       "      <td>D</td>\n",
       "      <td>Ship</td>\n",
       "      <td>2</td>\n",
       "      <td>5</td>\n",
       "      <td>155</td>\n",
       "      <td>5</td>\n",
       "      <td>low</td>\n",
       "      <td>F</td>\n",
       "      <td>6</td>\n",
       "      <td>1639</td>\n",
       "      <td>0</td>\n",
       "    </tr>\n",
       "  </tbody>\n",
       "</table>\n",
       "</div>"
      ],
      "text/plain": [
       "          ID Warehouse_block Mode_of_Shipment  Customer_care_calls   \n",
       "10994  10995  A               Ship             4                    \\\n",
       "10995  10996  B               Ship             4                     \n",
       "10996  10997  C               Ship             5                     \n",
       "10997  10998  F               Ship             5                     \n",
       "10998  10999  D               Ship             2                     \n",
       "\n",
       "       Customer_rating  Cost_of_the_Product  Prior_purchases   \n",
       "10994  1                252                  5                \\\n",
       "10995  1                232                  5                 \n",
       "10996  4                242                  5                 \n",
       "10997  2                223                  6                 \n",
       "10998  5                155                  5                 \n",
       "\n",
       "      Product_importance Gender  Discount_offered  Weight_in_gms   \n",
       "10994  medium             F      1                 1538           \\\n",
       "10995  medium             F      6                 1247            \n",
       "10996  low                F      4                 1155            \n",
       "10997  medium             M      2                 1210            \n",
       "10998  low                F      6                 1639            \n",
       "\n",
       "       Reached.on.Time_Y.N  \n",
       "10994  1                    \n",
       "10995  0                    \n",
       "10996  0                    \n",
       "10997  0                    \n",
       "10998  0                    "
      ]
     },
     "metadata": {},
     "output_type": "display_data"
    }
   ],
   "source": [
    "# Melihat 5 baris teratas dan terbawah dari data\n",
    "display(df.head(), df.tail())"
   ]
  },
  {
   "cell_type": "code",
   "execution_count": 26,
   "metadata": {},
   "outputs": [
    {
     "name": "stdout",
     "output_type": "stream",
     "text": [
      "Jumlah baris dan kolom dataset : (10999, 12)\n"
     ]
    }
   ],
   "source": [
    "#Melihat jumlah baris dan kolom dataset\n",
    "print(f'Jumlah baris dan kolom dataset : {df.shape}')"
   ]
  },
  {
   "cell_type": "code",
   "execution_count": 27,
   "metadata": {},
   "outputs": [
    {
     "data": {
      "text/html": [
       "<div>\n",
       "<style scoped>\n",
       "    .dataframe tbody tr th:only-of-type {\n",
       "        vertical-align: middle;\n",
       "    }\n",
       "\n",
       "    .dataframe tbody tr th {\n",
       "        vertical-align: top;\n",
       "    }\n",
       "\n",
       "    .dataframe thead th {\n",
       "        text-align: right;\n",
       "    }\n",
       "</style>\n",
       "<table border=\"1\" class=\"dataframe\">\n",
       "  <thead>\n",
       "    <tr style=\"text-align: right;\">\n",
       "      <th></th>\n",
       "      <th>feature</th>\n",
       "      <th>data_type</th>\n",
       "      <th>null_value</th>\n",
       "      <th>neg_value</th>\n",
       "      <th>n_unique</th>\n",
       "      <th>sample_unique</th>\n",
       "    </tr>\n",
       "  </thead>\n",
       "  <tbody>\n",
       "    <tr>\n",
       "      <th>0</th>\n",
       "      <td>ID</td>\n",
       "      <td>int64</td>\n",
       "      <td>0.0</td>\n",
       "      <td>False</td>\n",
       "      <td>10999</td>\n",
       "      <td>[1, 2, 3, 4, 5, 6, 7, 8, 9, 10, 11, 12, 13, 14, 15, 16, 17, 18, 19, 20, 21, 22, 23, 24, 25, 26, 27, 28, 29, 30, 31, 32, 33, 34, 35, 36, 37, 38, 39, 40, 41, 42, 43, 44, 45, 46, 47, 48, 49, 50, 51, 52, 53, 54, 55, 56, 57, 58, 59, 60, 61, 62, 63, 64, 65, 66, 67, 68, 69, 70, 71, 72, 73, 74, 75, 76, 77, 78, 79, 80, 81, 82, 83, 84, 85, 86, 87, 88, 89, 90, 91, 92, 93, 94, 95, 96, 97, 98, 99, 100, ...]</td>\n",
       "    </tr>\n",
       "    <tr>\n",
       "      <th>1</th>\n",
       "      <td>Warehouse_block</td>\n",
       "      <td>object</td>\n",
       "      <td>0.0</td>\n",
       "      <td>False</td>\n",
       "      <td>5</td>\n",
       "      <td>[D, F, A, B, C]</td>\n",
       "    </tr>\n",
       "    <tr>\n",
       "      <th>2</th>\n",
       "      <td>Mode_of_Shipment</td>\n",
       "      <td>object</td>\n",
       "      <td>0.0</td>\n",
       "      <td>False</td>\n",
       "      <td>3</td>\n",
       "      <td>[Flight, Ship, Road]</td>\n",
       "    </tr>\n",
       "    <tr>\n",
       "      <th>3</th>\n",
       "      <td>Customer_care_calls</td>\n",
       "      <td>int64</td>\n",
       "      <td>0.0</td>\n",
       "      <td>False</td>\n",
       "      <td>6</td>\n",
       "      <td>[4, 2, 3, 5, 6, 7]</td>\n",
       "    </tr>\n",
       "    <tr>\n",
       "      <th>4</th>\n",
       "      <td>Customer_rating</td>\n",
       "      <td>int64</td>\n",
       "      <td>0.0</td>\n",
       "      <td>False</td>\n",
       "      <td>5</td>\n",
       "      <td>[2, 5, 3, 1, 4]</td>\n",
       "    </tr>\n",
       "    <tr>\n",
       "      <th>5</th>\n",
       "      <td>Cost_of_the_Product</td>\n",
       "      <td>int64</td>\n",
       "      <td>0.0</td>\n",
       "      <td>False</td>\n",
       "      <td>215</td>\n",
       "      <td>[177, 216, 183, 176, 184, 162, 250, 233, 150, 164, 189, 232, 198, 275, 152, 227, 143, 239, 145, 161, 156, 211, 251, 225, 172, 234, 266, 257, 223, 149, 137, 181, 215, 269, 139, 174, 151, 210, 169, 160, 190, 141, 165, 170, 203, 246, 238, 193, 221, 179, 105, 261, 202, 109, 158, 231, 206, 187, 230, 113, 180, 132, 217, 197, 185, 278, 229, 186, 286, 175, 219, 213, 235, 271, 144, 218, 263, 168, 265, 205, 252, 222, 220, 147, 200, 224, 247, 280, 157, 207, 237, 264, 248, 191, 146, 135, 98, 97, 114, 112, ...]</td>\n",
       "    </tr>\n",
       "    <tr>\n",
       "      <th>6</th>\n",
       "      <td>Prior_purchases</td>\n",
       "      <td>int64</td>\n",
       "      <td>0.0</td>\n",
       "      <td>False</td>\n",
       "      <td>8</td>\n",
       "      <td>[3, 2, 4, 6, 5, 7, 10, 8]</td>\n",
       "    </tr>\n",
       "    <tr>\n",
       "      <th>7</th>\n",
       "      <td>Product_importance</td>\n",
       "      <td>object</td>\n",
       "      <td>0.0</td>\n",
       "      <td>False</td>\n",
       "      <td>3</td>\n",
       "      <td>[low, medium, high]</td>\n",
       "    </tr>\n",
       "    <tr>\n",
       "      <th>8</th>\n",
       "      <td>Gender</td>\n",
       "      <td>object</td>\n",
       "      <td>0.0</td>\n",
       "      <td>False</td>\n",
       "      <td>2</td>\n",
       "      <td>[F, M]</td>\n",
       "    </tr>\n",
       "    <tr>\n",
       "      <th>9</th>\n",
       "      <td>Discount_offered</td>\n",
       "      <td>int64</td>\n",
       "      <td>0.0</td>\n",
       "      <td>False</td>\n",
       "      <td>65</td>\n",
       "      <td>[44, 59, 48, 10, 46, 12, 3, 11, 29, 32, 1, 43, 45, 6, 36, 18, 38, 51, 2, 28, 24, 31, 61, 22, 4, 62, 16, 56, 15, 9, 40, 37, 41, 17, 64, 52, 49, 39, 14, 33, 21, 13, 23, 26, 57, 7, 35, 8, 5, 53, 55, 47, 65, 25, 50, 60, 20, 19, 63, 58, 34, 54, 27, 42, 30]</td>\n",
       "    </tr>\n",
       "    <tr>\n",
       "      <th>10</th>\n",
       "      <td>Weight_in_gms</td>\n",
       "      <td>int64</td>\n",
       "      <td>0.0</td>\n",
       "      <td>False</td>\n",
       "      <td>4034</td>\n",
       "      <td>[1233, 3088, 3374, 1177, 2484, 1417, 2371, 2804, 1861, 1187, 2888, 3253, 3667, 2602, 1009, 2707, 1194, 3952, 2495, 1059, 1521, 2899, 1750, 3922, 3561, 3496, 1066, 1435, 3134, 3819, 2741, 3341, 3795, 3261, 2460, 1811, 1477, 3605, 3905, 2383, 3798, 1265, 1647, 1556, 1328, 2944, 1245, 1576, 3753, 2146, 2042, 1735, 1320, 1128, 3539, 2437, 3096, 3453, 1367, 1923, 2794, 1158, 1292, 1880, 3045, 2881, 1710, 1878, 2512, 2929, 3849, 2229, 2998, 3984, 2442, 3775, 1788, 1518, 3959, 3711, 1942, 1759, 2875, 1364, 2710, 2148, 2910, 2974, 2339, 3880, 1085, 3163, 1188, 3387, 2343, 2034, 1225, 2401, 1104, 1617, ...]</td>\n",
       "    </tr>\n",
       "    <tr>\n",
       "      <th>11</th>\n",
       "      <td>Reached.on.Time_Y.N</td>\n",
       "      <td>int64</td>\n",
       "      <td>0.0</td>\n",
       "      <td>False</td>\n",
       "      <td>2</td>\n",
       "      <td>[1, 0]</td>\n",
       "    </tr>\n",
       "  </tbody>\n",
       "</table>\n",
       "</div>"
      ],
      "text/plain": [
       "                feature data_type  null_value  neg_value  n_unique   \n",
       "0   ID                   int64     0.0         False      10999     \\\n",
       "1   Warehouse_block      object    0.0         False      5          \n",
       "2   Mode_of_Shipment     object    0.0         False      3          \n",
       "3   Customer_care_calls  int64     0.0         False      6          \n",
       "4   Customer_rating      int64     0.0         False      5          \n",
       "5   Cost_of_the_Product  int64     0.0         False      215        \n",
       "6   Prior_purchases      int64     0.0         False      8          \n",
       "7   Product_importance   object    0.0         False      3          \n",
       "8   Gender               object    0.0         False      2          \n",
       "9   Discount_offered     int64     0.0         False      65         \n",
       "10  Weight_in_gms        int64     0.0         False      4034       \n",
       "11  Reached.on.Time_Y.N  int64     0.0         False      2          \n",
       "\n",
       "                                                                                                                                                                                                                                                                                                                                                                                                                                                                                                                                                                                                                    sample_unique  \n",
       "0   [1, 2, 3, 4, 5, 6, 7, 8, 9, 10, 11, 12, 13, 14, 15, 16, 17, 18, 19, 20, 21, 22, 23, 24, 25, 26, 27, 28, 29, 30, 31, 32, 33, 34, 35, 36, 37, 38, 39, 40, 41, 42, 43, 44, 45, 46, 47, 48, 49, 50, 51, 52, 53, 54, 55, 56, 57, 58, 59, 60, 61, 62, 63, 64, 65, 66, 67, 68, 69, 70, 71, 72, 73, 74, 75, 76, 77, 78, 79, 80, 81, 82, 83, 84, 85, 86, 87, 88, 89, 90, 91, 92, 93, 94, 95, 96, 97, 98, 99, 100, ...]                                                                                                                                                                                                                  \n",
       "1   [D, F, A, B, C]                                                                                                                                                                                                                                                                                                                                                                                                                                                                                                                                                                                                                \n",
       "2   [Flight, Ship, Road]                                                                                                                                                                                                                                                                                                                                                                                                                                                                                                                                                                                                           \n",
       "3   [4, 2, 3, 5, 6, 7]                                                                                                                                                                                                                                                                                                                                                                                                                                                                                                                                                                                                             \n",
       "4   [2, 5, 3, 1, 4]                                                                                                                                                                                                                                                                                                                                                                                                                                                                                                                                                                                                                \n",
       "5   [177, 216, 183, 176, 184, 162, 250, 233, 150, 164, 189, 232, 198, 275, 152, 227, 143, 239, 145, 161, 156, 211, 251, 225, 172, 234, 266, 257, 223, 149, 137, 181, 215, 269, 139, 174, 151, 210, 169, 160, 190, 141, 165, 170, 203, 246, 238, 193, 221, 179, 105, 261, 202, 109, 158, 231, 206, 187, 230, 113, 180, 132, 217, 197, 185, 278, 229, 186, 286, 175, 219, 213, 235, 271, 144, 218, 263, 168, 265, 205, 252, 222, 220, 147, 200, 224, 247, 280, 157, 207, 237, 264, 248, 191, 146, 135, 98, 97, 114, 112, ...]                                                                                                        \n",
       "6   [3, 2, 4, 6, 5, 7, 10, 8]                                                                                                                                                                                                                                                                                                                                                                                                                                                                                                                                                                                                      \n",
       "7   [low, medium, high]                                                                                                                                                                                                                                                                                                                                                                                                                                                                                                                                                                                                            \n",
       "8   [F, M]                                                                                                                                                                                                                                                                                                                                                                                                                                                                                                                                                                                                                         \n",
       "9   [44, 59, 48, 10, 46, 12, 3, 11, 29, 32, 1, 43, 45, 6, 36, 18, 38, 51, 2, 28, 24, 31, 61, 22, 4, 62, 16, 56, 15, 9, 40, 37, 41, 17, 64, 52, 49, 39, 14, 33, 21, 13, 23, 26, 57, 7, 35, 8, 5, 53, 55, 47, 65, 25, 50, 60, 20, 19, 63, 58, 34, 54, 27, 42, 30]                                                                                                                                                                                                                                                                                                                                                                    \n",
       "10  [1233, 3088, 3374, 1177, 2484, 1417, 2371, 2804, 1861, 1187, 2888, 3253, 3667, 2602, 1009, 2707, 1194, 3952, 2495, 1059, 1521, 2899, 1750, 3922, 3561, 3496, 1066, 1435, 3134, 3819, 2741, 3341, 3795, 3261, 2460, 1811, 1477, 3605, 3905, 2383, 3798, 1265, 1647, 1556, 1328, 2944, 1245, 1576, 3753, 2146, 2042, 1735, 1320, 1128, 3539, 2437, 3096, 3453, 1367, 1923, 2794, 1158, 1292, 1880, 3045, 2881, 1710, 1878, 2512, 2929, 3849, 2229, 2998, 3984, 2442, 3775, 1788, 1518, 3959, 3711, 1942, 1759, 2875, 1364, 2710, 2148, 2910, 2974, 2339, 3880, 1085, 3163, 1188, 3387, 2343, 2034, 1225, 2401, 1104, 1617, ...]  \n",
       "11  [1, 0]                                                                                                                                                                                                                                                                                                                                                                                                                                                                                                                                                                                                                         "
      ]
     },
     "execution_count": 27,
     "metadata": {},
     "output_type": "execute_result"
    }
   ],
   "source": [
    "\n",
    "pd.set_option('display.max_colwidth',1)\n",
    "# info dan data unik di tiap kolom\n",
    "pd.DataFrame(\n",
    "    {\n",
    "    'feature': df.columns.values,\n",
    "    'data_type': df.dtypes.values,\n",
    "    'null_value': df.isna().mean().values * 100,\n",
    "    'neg_value': [True if df[col].dtype == int and (df[col] < 0).any() else False for col in df.columns],\n",
    "    'n_unique': df.nunique().values,\n",
    "    'sample_unique': [df[col].unique() for col in df.columns]\n",
    "    }\n",
    ")"
   ]
  },
  {
   "cell_type": "code",
   "execution_count": 28,
   "metadata": {},
   "outputs": [
    {
     "data": {
      "text/html": [
       "<div>\n",
       "<style scoped>\n",
       "    .dataframe tbody tr th:only-of-type {\n",
       "        vertical-align: middle;\n",
       "    }\n",
       "\n",
       "    .dataframe tbody tr th {\n",
       "        vertical-align: top;\n",
       "    }\n",
       "\n",
       "    .dataframe thead th {\n",
       "        text-align: right;\n",
       "    }\n",
       "</style>\n",
       "<table border=\"1\" class=\"dataframe\">\n",
       "  <thead>\n",
       "    <tr style=\"text-align: right;\">\n",
       "      <th></th>\n",
       "      <th>ID</th>\n",
       "      <th>Customer_care_calls</th>\n",
       "      <th>Customer_rating</th>\n",
       "      <th>Cost_of_the_Product</th>\n",
       "      <th>Prior_purchases</th>\n",
       "      <th>Discount_offered</th>\n",
       "      <th>Weight_in_gms</th>\n",
       "      <th>Reached.on.Time_Y.N</th>\n",
       "    </tr>\n",
       "  </thead>\n",
       "  <tbody>\n",
       "    <tr>\n",
       "      <th>count</th>\n",
       "      <td>10999.00000</td>\n",
       "      <td>10999.000000</td>\n",
       "      <td>10999.000000</td>\n",
       "      <td>10999.000000</td>\n",
       "      <td>10999.000000</td>\n",
       "      <td>10999.000000</td>\n",
       "      <td>10999.000000</td>\n",
       "      <td>10999.000000</td>\n",
       "    </tr>\n",
       "    <tr>\n",
       "      <th>mean</th>\n",
       "      <td>5500.00000</td>\n",
       "      <td>4.054459</td>\n",
       "      <td>2.990545</td>\n",
       "      <td>210.196836</td>\n",
       "      <td>3.567597</td>\n",
       "      <td>13.373216</td>\n",
       "      <td>3634.016729</td>\n",
       "      <td>0.596691</td>\n",
       "    </tr>\n",
       "    <tr>\n",
       "      <th>std</th>\n",
       "      <td>3175.28214</td>\n",
       "      <td>1.141490</td>\n",
       "      <td>1.413603</td>\n",
       "      <td>48.063272</td>\n",
       "      <td>1.522860</td>\n",
       "      <td>16.205527</td>\n",
       "      <td>1635.377251</td>\n",
       "      <td>0.490584</td>\n",
       "    </tr>\n",
       "    <tr>\n",
       "      <th>min</th>\n",
       "      <td>1.00000</td>\n",
       "      <td>2.000000</td>\n",
       "      <td>1.000000</td>\n",
       "      <td>96.000000</td>\n",
       "      <td>2.000000</td>\n",
       "      <td>1.000000</td>\n",
       "      <td>1001.000000</td>\n",
       "      <td>0.000000</td>\n",
       "    </tr>\n",
       "    <tr>\n",
       "      <th>25%</th>\n",
       "      <td>2750.50000</td>\n",
       "      <td>3.000000</td>\n",
       "      <td>2.000000</td>\n",
       "      <td>169.000000</td>\n",
       "      <td>3.000000</td>\n",
       "      <td>4.000000</td>\n",
       "      <td>1839.500000</td>\n",
       "      <td>0.000000</td>\n",
       "    </tr>\n",
       "    <tr>\n",
       "      <th>50%</th>\n",
       "      <td>5500.00000</td>\n",
       "      <td>4.000000</td>\n",
       "      <td>3.000000</td>\n",
       "      <td>214.000000</td>\n",
       "      <td>3.000000</td>\n",
       "      <td>7.000000</td>\n",
       "      <td>4149.000000</td>\n",
       "      <td>1.000000</td>\n",
       "    </tr>\n",
       "    <tr>\n",
       "      <th>75%</th>\n",
       "      <td>8249.50000</td>\n",
       "      <td>5.000000</td>\n",
       "      <td>4.000000</td>\n",
       "      <td>251.000000</td>\n",
       "      <td>4.000000</td>\n",
       "      <td>10.000000</td>\n",
       "      <td>5050.000000</td>\n",
       "      <td>1.000000</td>\n",
       "    </tr>\n",
       "    <tr>\n",
       "      <th>max</th>\n",
       "      <td>10999.00000</td>\n",
       "      <td>7.000000</td>\n",
       "      <td>5.000000</td>\n",
       "      <td>310.000000</td>\n",
       "      <td>10.000000</td>\n",
       "      <td>65.000000</td>\n",
       "      <td>7846.000000</td>\n",
       "      <td>1.000000</td>\n",
       "    </tr>\n",
       "  </tbody>\n",
       "</table>\n",
       "</div>"
      ],
      "text/plain": [
       "                ID  Customer_care_calls  Customer_rating  Cost_of_the_Product   \n",
       "count  10999.00000  10999.000000         10999.000000     10999.000000         \\\n",
       "mean   5500.00000   4.054459             2.990545         210.196836            \n",
       "std    3175.28214   1.141490             1.413603         48.063272             \n",
       "min    1.00000      2.000000             1.000000         96.000000             \n",
       "25%    2750.50000   3.000000             2.000000         169.000000            \n",
       "50%    5500.00000   4.000000             3.000000         214.000000            \n",
       "75%    8249.50000   5.000000             4.000000         251.000000            \n",
       "max    10999.00000  7.000000             5.000000         310.000000            \n",
       "\n",
       "       Prior_purchases  Discount_offered  Weight_in_gms  Reached.on.Time_Y.N  \n",
       "count  10999.000000     10999.000000      10999.000000   10999.000000         \n",
       "mean   3.567597         13.373216         3634.016729    0.596691             \n",
       "std    1.522860         16.205527         1635.377251    0.490584             \n",
       "min    2.000000         1.000000          1001.000000    0.000000             \n",
       "25%    3.000000         4.000000          1839.500000    0.000000             \n",
       "50%    3.000000         7.000000          4149.000000    1.000000             \n",
       "75%    4.000000         10.000000         5050.000000    1.000000             \n",
       "max    10.000000        65.000000         7846.000000    1.000000             "
      ]
     },
     "metadata": {},
     "output_type": "display_data"
    },
    {
     "data": {
      "text/html": [
       "<div>\n",
       "<style scoped>\n",
       "    .dataframe tbody tr th:only-of-type {\n",
       "        vertical-align: middle;\n",
       "    }\n",
       "\n",
       "    .dataframe tbody tr th {\n",
       "        vertical-align: top;\n",
       "    }\n",
       "\n",
       "    .dataframe thead th {\n",
       "        text-align: right;\n",
       "    }\n",
       "</style>\n",
       "<table border=\"1\" class=\"dataframe\">\n",
       "  <thead>\n",
       "    <tr style=\"text-align: right;\">\n",
       "      <th></th>\n",
       "      <th>Warehouse_block</th>\n",
       "      <th>Mode_of_Shipment</th>\n",
       "      <th>Product_importance</th>\n",
       "      <th>Gender</th>\n",
       "    </tr>\n",
       "  </thead>\n",
       "  <tbody>\n",
       "    <tr>\n",
       "      <th>count</th>\n",
       "      <td>10999</td>\n",
       "      <td>10999</td>\n",
       "      <td>10999</td>\n",
       "      <td>10999</td>\n",
       "    </tr>\n",
       "    <tr>\n",
       "      <th>unique</th>\n",
       "      <td>5</td>\n",
       "      <td>3</td>\n",
       "      <td>3</td>\n",
       "      <td>2</td>\n",
       "    </tr>\n",
       "    <tr>\n",
       "      <th>top</th>\n",
       "      <td>F</td>\n",
       "      <td>Ship</td>\n",
       "      <td>low</td>\n",
       "      <td>F</td>\n",
       "    </tr>\n",
       "    <tr>\n",
       "      <th>freq</th>\n",
       "      <td>3666</td>\n",
       "      <td>7462</td>\n",
       "      <td>5297</td>\n",
       "      <td>5545</td>\n",
       "    </tr>\n",
       "  </tbody>\n",
       "</table>\n",
       "</div>"
      ],
      "text/plain": [
       "       Warehouse_block Mode_of_Shipment Product_importance Gender\n",
       "count   10999           10999            10999              10999\n",
       "unique  5               3                3                  2    \n",
       "top     F               Ship             low                F    \n",
       "freq    3666            7462             5297               5545 "
      ]
     },
     "metadata": {},
     "output_type": "display_data"
    }
   ],
   "source": [
    "#melihat statistik deskriptif masing-masing kolom\n",
    "display(df.describe(), df.describe(include='object'))"
   ]
  },
  {
   "cell_type": "markdown",
   "metadata": {},
   "source": [
    "### Mencari data duplikat"
   ]
  },
  {
   "cell_type": "code",
   "execution_count": 29,
   "metadata": {},
   "outputs": [
    {
     "data": {
      "text/html": [
       "<div>\n",
       "<style scoped>\n",
       "    .dataframe tbody tr th:only-of-type {\n",
       "        vertical-align: middle;\n",
       "    }\n",
       "\n",
       "    .dataframe tbody tr th {\n",
       "        vertical-align: top;\n",
       "    }\n",
       "\n",
       "    .dataframe thead th {\n",
       "        text-align: right;\n",
       "    }\n",
       "</style>\n",
       "<table border=\"1\" class=\"dataframe\">\n",
       "  <thead>\n",
       "    <tr style=\"text-align: right;\">\n",
       "      <th></th>\n",
       "      <th>ID</th>\n",
       "      <th>Warehouse_block</th>\n",
       "      <th>Mode_of_Shipment</th>\n",
       "      <th>Customer_care_calls</th>\n",
       "      <th>Customer_rating</th>\n",
       "      <th>Cost_of_the_Product</th>\n",
       "      <th>Prior_purchases</th>\n",
       "      <th>Product_importance</th>\n",
       "      <th>Gender</th>\n",
       "      <th>Discount_offered</th>\n",
       "      <th>Weight_in_gms</th>\n",
       "      <th>Reached.on.Time_Y.N</th>\n",
       "    </tr>\n",
       "  </thead>\n",
       "  <tbody>\n",
       "  </tbody>\n",
       "</table>\n",
       "</div>"
      ],
      "text/plain": [
       "Empty DataFrame\n",
       "Columns: [ID, Warehouse_block, Mode_of_Shipment, Customer_care_calls, Customer_rating, Cost_of_the_Product, Prior_purchases, Product_importance, Gender, Discount_offered, Weight_in_gms, Reached.on.Time_Y.N]\n",
       "Index: []"
      ]
     },
     "execution_count": 29,
     "metadata": {},
     "output_type": "execute_result"
    }
   ],
   "source": [
    "df[df.duplicated()]"
   ]
  },
  {
   "cell_type": "markdown",
   "metadata": {},
   "source": [
    "Tidak terdapat duplikasi data pada tiap kolom dataset"
   ]
  },
  {
   "attachments": {},
   "cell_type": "markdown",
   "metadata": {},
   "source": [
    "### Mendeteksi Missing Value"
   ]
  },
  {
   "cell_type": "code",
   "execution_count": 30,
   "metadata": {},
   "outputs": [
    {
     "data": {
      "text/plain": [
       "ID                     0\n",
       "Warehouse_block        0\n",
       "Mode_of_Shipment       0\n",
       "Customer_care_calls    0\n",
       "Customer_rating        0\n",
       "Cost_of_the_Product    0\n",
       "Prior_purchases        0\n",
       "Product_importance     0\n",
       "Gender                 0\n",
       "Discount_offered       0\n",
       "Weight_in_gms          0\n",
       "Reached.on.Time_Y.N    0\n",
       "dtype: int64"
      ]
     },
     "execution_count": 30,
     "metadata": {},
     "output_type": "execute_result"
    }
   ],
   "source": [
    "df.isnull().sum()"
   ]
  },
  {
   "cell_type": "code",
   "execution_count": 31,
   "metadata": {},
   "outputs": [
    {
     "data": {
      "text/plain": [
       "<Axes: >"
      ]
     },
     "execution_count": 31,
     "metadata": {},
     "output_type": "execute_result"
    },
    {
     "data": {
      "image/png": "[encoded data removed]",
      "text/plain": [
       "<Figure size 2500x1000 with 2 Axes>"
      ]
     },
     "metadata": {},
     "output_type": "display_data"
    }
   ],
   "source": [
    "msn.matrix(df)"
   ]
  },
  {
   "attachments": {},
   "cell_type": "markdown",
   "metadata": {},
   "source": [
    "* tidak terdapat missing value dalam dataset"
   ]
  },
  {
   "cell_type": "markdown",
   "metadata": {},
   "source": [
    "Insight.\n",
    "\n",
    "Secara umum kita dapat melihat bahwa:\n",
    "* Dataset Online Retail Shipping terdiri dari 12 kolom dan 10.999 baris\n",
    "* Tidak terdapat duplikasi data\n",
    "* Tidak terdapat missing value dalam dataset (tidak ada null value)\n",
    "* Data tidak memiliki kesalahan format dalam penulisan\n",
    "* Kolom `ID` berisikan id unik untuk tiap customer, sehingga tidak relevan dalam analisis dan dapat dihapuskan.\n",
    "* Kolom `Customer_care_calls`, `Prior_purchases` dan `Weight_in_gms` akan dilakukan diskritisasi dalam bentuk interval."
   ]
  },
  {
   "attachments": {},
   "cell_type": "markdown",
   "metadata": {},
   "source": [
    "### Mendeteksi Outlier\n",
    "Outlier merupakan data yang berbeda secara signifikan dari data pengamatan lain. Outlier dapat berpengaruh pada hasil pengambilan keputusan setelah analisa. Ada beberapa faktor yang menyebabkan munculnya data outlier yaitu kesalahan penginputan data, fakta dilapangan memang seperti itu, subjek yang tidak mengerti satuan pertanyaan, dan sebagainya."
   ]
  },
  {
   "cell_type": "code",
   "execution_count": 32,
   "metadata": {},
   "outputs": [
    {
     "data": {
      "image/png": "[encoded data removed]",
      "text/plain": [
       "<Figure size 1600x2000 with 5 Axes>"
      ]
     },
     "metadata": {},
     "output_type": "display_data"
    }
   ],
   "source": [
    "num_cols = ['Weight_in_gms', 'Discount_offered', 'Prior_purchases', 'Cost_of_the_Product','Customer_care_calls']\n",
    "\n",
    "plt.figure(figsize = (16, 20))\n",
    "plotnumber = 1\n",
    "for i in range(len(num_cols)):\n",
    "        ax = plt.subplot(3, 2, plotnumber)\n",
    "        sns.boxplot(x = num_cols[i], data = df, ax = ax)\n",
    "        plt.title(f'{num_cols[i]} outlier')\n",
    "        plotnumber += 1\n",
    "\n",
    "plt.tight_layout()\n",
    "plt.show()"
   ]
  },
  {
   "attachments": {},
   "cell_type": "markdown",
   "metadata": {},
   "source": [
    "Terdapat outlier pada kolom `Discount_offered` dan `Prior_purchases`, namun tidak dilakuan data handling pada kolom `Discount_offered` dianggap normal selama diskon berada dalam rentang 0-100, dan untuk kolom `Prior_purchases` sendiri akan dilakukan diskritisasi kedalam bentuk interval untuk menghilangkan outlier"
   ]
  },
  {
   "attachments": {},
   "cell_type": "markdown",
   "metadata": {},
   "source": [
    "### Data Formating"
   ]
  },
  {
   "cell_type": "markdown",
   "metadata": {},
   "source": [
    "* mengganti nama kolom untuk memudahkan analisis"
   ]
  },
  {
   "cell_type": "code",
   "execution_count": 33,
   "metadata": {},
   "outputs": [],
   "source": [
    "df['Reached.on.Time_Y.N'] = df['Reached.on.Time_Y.N'].apply(lambda x: 'ontime' if x == 0 else 'late')"
   ]
  },
  {
   "attachments": {},
   "cell_type": "markdown",
   "metadata": {},
   "source": [
    "* Diskritisasi atribut `Customer_care_calls`, `Prior_purchases` dan `Weight_in_gms` untuk digunakan dalam analisis."
   ]
  },
  {
   "cell_type": "code",
   "execution_count": 34,
   "metadata": {},
   "outputs": [
    {
     "name": "stdout",
     "output_type": "stream",
     "text": [
      "Customer_care_calls: median 4.0 - MAD 1.0\n",
      "Prior_purchases: median 3.0 - MAD 1.0\n",
      "Weight_in_gms: median 4149.0 - MAD 1332.0\n"
     ]
    }
   ],
   "source": [
    "print(f\"Customer_care_calls: median {df['Customer_care_calls'].median()} - MAD {abs(df['Customer_care_calls'] - df['Customer_care_calls'].median()).median()}\")\n",
    "print(f\"Prior_purchases: median {df['Prior_purchases'].median()} - MAD {abs(df['Prior_purchases'] - df['Prior_purchases'].median()).median()}\")\n",
    "print(f\"Weight_in_gms: median {df['Weight_in_gms'].median()} - MAD {abs(df['Weight_in_gms'] - df['Weight_in_gms'].median()).median()}\")"
   ]
  },
  {
   "attachments": {},
   "cell_type": "markdown",
   "metadata": {},
   "source": [
    "Gunakan median dan MAD sebagai dasar membagi kelompoknya."
   ]
  },
  {
   "cell_type": "code",
   "execution_count": 35,
   "metadata": {},
   "outputs": [],
   "source": [
    "def convert_calls(x):\n",
    "    if x <= 3:\n",
    "        return 'seldom calls'\n",
    "    elif x < 5:\n",
    "        return 'occasionally calls'\n",
    "    else:\n",
    "        return 'frequently calls'\n",
    "    \n",
    "def convert_prior(x):\n",
    "    if x > 3:\n",
    "        return '> 3 purchase'\n",
    "    else:\n",
    "        return '0-3 purchase'\n",
    "    \n",
    "def convert_weight(x):\n",
    "    if x <= 2817:\n",
    "        return 'light'\n",
    "    elif x < 5481:\n",
    "        return 'medium'\n",
    "    else:\n",
    "        return 'heavy'\n",
    "\n",
    "df_cleaned = df.assign(\n",
    "    Customer_calls_class= df['Customer_care_calls'].apply(lambda x: convert_calls(x)),\n",
    "    Prior_purchase_category= df['Prior_purchases'].apply(lambda x: convert_prior(x)),\n",
    "    Weight_category= df['Weight_in_gms'].apply(lambda x: convert_weight(x))\n",
    ")"
   ]
  },
  {
   "cell_type": "markdown",
   "metadata": {},
   "source": [
    "* Menghapus kolom yang tidak digunakan dalam analisis"
   ]
  },
  {
   "cell_type": "code",
   "execution_count": 36,
   "metadata": {},
   "outputs": [],
   "source": [
    "df_cleaned.drop(['ID','Customer_rating','Gender','Customer_care_calls','Prior_purchases','Weight_in_gms'], axis=1, inplace=True)"
   ]
  },
  {
   "cell_type": "code",
   "execution_count": 37,
   "metadata": {},
   "outputs": [
    {
     "data": {
      "text/html": [
       "<div>\n",
       "<style scoped>\n",
       "    .dataframe tbody tr th:only-of-type {\n",
       "        vertical-align: middle;\n",
       "    }\n",
       "\n",
       "    .dataframe tbody tr th {\n",
       "        vertical-align: top;\n",
       "    }\n",
       "\n",
       "    .dataframe thead th {\n",
       "        text-align: right;\n",
       "    }\n",
       "</style>\n",
       "<table border=\"1\" class=\"dataframe\">\n",
       "  <thead>\n",
       "    <tr style=\"text-align: right;\">\n",
       "      <th></th>\n",
       "      <th>Warehouse_block</th>\n",
       "      <th>Mode_of_Shipment</th>\n",
       "      <th>Cost_of_the_Product</th>\n",
       "      <th>Product_importance</th>\n",
       "      <th>Discount_offered</th>\n",
       "      <th>Reached.on.Time_Y.N</th>\n",
       "      <th>Customer_calls_class</th>\n",
       "      <th>Prior_purchase_category</th>\n",
       "      <th>Weight_category</th>\n",
       "    </tr>\n",
       "  </thead>\n",
       "  <tbody>\n",
       "    <tr>\n",
       "      <th>4567</th>\n",
       "      <td>F</td>\n",
       "      <td>Ship</td>\n",
       "      <td>262</td>\n",
       "      <td>low</td>\n",
       "      <td>2</td>\n",
       "      <td>ontime</td>\n",
       "      <td>occasionally calls</td>\n",
       "      <td>&gt; 3 purchase</td>\n",
       "      <td>medium</td>\n",
       "    </tr>\n",
       "    <tr>\n",
       "      <th>6001</th>\n",
       "      <td>F</td>\n",
       "      <td>Road</td>\n",
       "      <td>270</td>\n",
       "      <td>low</td>\n",
       "      <td>3</td>\n",
       "      <td>late</td>\n",
       "      <td>occasionally calls</td>\n",
       "      <td>&gt; 3 purchase</td>\n",
       "      <td>light</td>\n",
       "    </tr>\n",
       "    <tr>\n",
       "      <th>5565</th>\n",
       "      <td>B</td>\n",
       "      <td>Ship</td>\n",
       "      <td>173</td>\n",
       "      <td>medium</td>\n",
       "      <td>8</td>\n",
       "      <td>ontime</td>\n",
       "      <td>occasionally calls</td>\n",
       "      <td>0-3 purchase</td>\n",
       "      <td>medium</td>\n",
       "    </tr>\n",
       "    <tr>\n",
       "      <th>8999</th>\n",
       "      <td>F</td>\n",
       "      <td>Ship</td>\n",
       "      <td>189</td>\n",
       "      <td>medium</td>\n",
       "      <td>10</td>\n",
       "      <td>ontime</td>\n",
       "      <td>frequently calls</td>\n",
       "      <td>0-3 purchase</td>\n",
       "      <td>medium</td>\n",
       "    </tr>\n",
       "    <tr>\n",
       "      <th>7288</th>\n",
       "      <td>C</td>\n",
       "      <td>Ship</td>\n",
       "      <td>217</td>\n",
       "      <td>medium</td>\n",
       "      <td>7</td>\n",
       "      <td>late</td>\n",
       "      <td>occasionally calls</td>\n",
       "      <td>0-3 purchase</td>\n",
       "      <td>medium</td>\n",
       "    </tr>\n",
       "  </tbody>\n",
       "</table>\n",
       "</div>"
      ],
      "text/plain": [
       "     Warehouse_block Mode_of_Shipment  Cost_of_the_Product Product_importance   \n",
       "4567  F               Ship             262                  low                \\\n",
       "6001  F               Road             270                  low                 \n",
       "5565  B               Ship             173                  medium              \n",
       "8999  F               Ship             189                  medium              \n",
       "7288  C               Ship             217                  medium              \n",
       "\n",
       "      Discount_offered Reached.on.Time_Y.N Customer_calls_class   \n",
       "4567  2                 ontime              occasionally calls   \\\n",
       "6001  3                 late                occasionally calls    \n",
       "5565  8                 ontime              occasionally calls    \n",
       "8999  10                ontime              frequently calls      \n",
       "7288  7                 late                occasionally calls    \n",
       "\n",
       "     Prior_purchase_category Weight_category  \n",
       "4567  > 3 purchase            medium          \n",
       "6001  > 3 purchase            light           \n",
       "5565  0-3 purchase            medium          \n",
       "8999  0-3 purchase            medium          \n",
       "7288  0-3 purchase            medium          "
      ]
     },
     "execution_count": 37,
     "metadata": {},
     "output_type": "execute_result"
    }
   ],
   "source": [
    "df_cleaned.sample(5,random_state=10)"
   ]
  },
  {
   "cell_type": "code",
   "execution_count": 38,
   "metadata": {},
   "outputs": [
    {
     "name": "stdout",
     "output_type": "stream",
     "text": [
      "<class 'pandas.core.frame.DataFrame'>\n",
      "RangeIndex: 10999 entries, 0 to 10998\n",
      "Data columns (total 12 columns):\n",
      " #   Column               Non-Null Count  Dtype \n",
      "---  ------               --------------  ----- \n",
      " 0   ID                   10999 non-null  int64 \n",
      " 1   Warehouse_block      10999 non-null  object\n",
      " 2   Mode_of_Shipment     10999 non-null  object\n",
      " 3   Customer_care_calls  10999 non-null  int64 \n",
      " 4   Customer_rating      10999 non-null  int64 \n",
      " 5   Cost_of_the_Product  10999 non-null  int64 \n",
      " 6   Prior_purchases      10999 non-null  int64 \n",
      " 7   Product_importance   10999 non-null  object\n",
      " 8   Gender               10999 non-null  object\n",
      " 9   Discount_offered     10999 non-null  int64 \n",
      " 10  Weight_in_gms        10999 non-null  int64 \n",
      " 11  Reached.on.Time_Y.N  10999 non-null  object\n",
      "dtypes: int64(7), object(5)\n",
      "memory usage: 1.0+ MB\n"
     ]
    }
   ],
   "source": [
    "df.info()"
   ]
  },
  {
   "attachments": {},
   "cell_type": "markdown",
   "metadata": {},
   "source": [
    "### Saving Data"
   ]
  },
  {
   "attachments": {},
   "cell_type": "markdown",
   "metadata": {},
   "source": [
    "Data mentah yang sudah diolah dan siap di analisis akan kita simpan dalam folder `../data/processed`"
   ]
  },
  {
   "cell_type": "code",
   "execution_count": 39,
   "metadata": {},
   "outputs": [],
   "source": [
    "df_cleaned.to_csv(f'../data/processed/cleaned_data.csv', index=False)"
   ]
  },
  {
   "cell_type": "code",
   "execution_count": 40,
   "metadata": {},
   "outputs": [],
   "source": [
    "df_cleaned.to_excel(r'../data/processed/cleaned_data.xlsx', index=False)"
   ]
  }
 ],
 "metadata": {
  "kernelspec": {
   "display_name": "Python 3",
   "language": "python",
   "name": "python3"
  },
  "language_info": {
   "codemirror_mode": {
    "name": "ipython",
    "version": 3
   },
   "file_extension": ".py",
   "mimetype": "text/x-python",
   "name": "python",
   "nbconvert_exporter": "python",
   "pygments_lexer": "ipython3",
   "version": "3.9.13"
  },
  "orig_nbformat": 4
 },
 "nbformat": 4,
 "nbformat_minor": 2
}
